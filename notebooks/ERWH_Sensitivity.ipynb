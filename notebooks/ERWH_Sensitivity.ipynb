{
 "cells": [
  {
   "cell_type": "code",
   "execution_count": 1,
   "id": "1bdeebcb",
   "metadata": {},
   "outputs": [],
   "source": [
    "import pandas as pd\n",
    "import numpy as np\n",
    "import matplotlib.pyplot as plt\n",
    "import scipy.integrate\n",
    "from scipy.interpolate import interp1d\n",
    "import scipy.stats"
   ]
  },
  {
   "cell_type": "code",
   "execution_count": 2,
   "id": "60103314",
   "metadata": {},
   "outputs": [],
   "source": [
    "# =============================================================================\n",
    "# Constants and conversion factors : \n",
    "# =============================================================================\n",
    "\n",
    "users = 351\n",
    "cms_per_gpm = 6.309e-5\n",
    "ns_per_s = 1e9\n",
    "kg_per_lb = 0.453\n",
    "s_per_interval = 30\n",
    "s_per_hr = 3600\n",
    "kwh_per_mwh = 1000\n",
    "j_per_kj = 1000\n",
    "ccf_to_therms = 1.037\n",
    "emission_per_therm = 5.3"
   ]
  },
  {
   "cell_type": "code",
   "execution_count": 3,
   "id": "5debb9b5",
   "metadata": {},
   "outputs": [],
   "source": [
    "# =============================================================================\n",
    "# Water heater model definition : \n",
    "# =============================================================================\n",
    "\n",
    "c_p = 4184                    # Units: J / kg / K\n",
    "V = 0.3195             # Units: m^3\n",
    "surf_area = 2.915\n",
    "R_to_RSI = 5.68\n",
    "rho = 1000                    # Units: kg / m^3\n",
    "R = 9 * surf_area / R_to_RSI                       \n",
    "T_out = 60 + 273.15           # Units: K\n",
    "T_in = 20 + 273.15            # Units: K\n",
    "T_o = 25 + 273.15\n",
    "T_set = 60 + 273.15\n",
    "K = 2 * 1e5\n",
    "H_in = 1\n",
    "\n",
    "def waterheater(t, T, H_in, Q):\n",
    "    H_in = - K * (T - T_set)\n",
    "    result = (H_in + (c_p * rho * Q(t) * T_in) + (T_o / R) - (1 / R + c_p * rho * Q(t)) * T) / (c_p * rho * V)\n",
    "    return result \n",
    "\n",
    "def sol_func(time_start, time_end, Q):\n",
    "    sol = scipy.integrate.solve_ivp(waterheater, [time_start, time_end],\n",
    "                                    [T_out], args=(H_in, Q),\n",
    "                                    method='LSODA', dense_output=True, max_step=300)\n",
    "    return sol"
   ]
  },
  {
   "cell_type": "code",
   "execution_count": 4,
   "id": "8ef95e66",
   "metadata": {},
   "outputs": [],
   "source": [
    "# =============================================================================\n",
    "# Import and read file:\n",
    "# =============================================================================\n",
    "\n",
    "SitesData = pd.read_csv(\"../data/site_a.csv\")\n",
    "Watttime = pd.read_csv(\"../data/ERCOT_EASTTX-MOER_2021-2023.csv\")\n",
    "\n",
    "# Convert timestamp strings to datetimes\n",
    "SitesData['TimeStamp'] = pd.to_datetime(SitesData['TimeStamp'])\n",
    "Watttime['timestamp_local'] = pd.to_datetime(Watttime['timestamp_local'])\n",
    "Watttime['timestamp_utc'] = pd.to_datetime(Watttime['timestamp_utc'])"
   ]
  },
  {
   "cell_type": "code",
   "execution_count": 5,
   "id": "d345b719",
   "metadata": {},
   "outputs": [],
   "source": [
    "# =============================================================================\n",
    "# Test for duplicate time indices:\n",
    "# =============================================================================\n",
    "\n",
    "assert not SitesData.duplicated(subset=['TimeStamp']).any()\n",
    "assert not Watttime.duplicated(subset=['timestamp_utc']).any()"
   ]
  },
  {
   "cell_type": "code",
   "execution_count": 6,
   "id": "2469fcb6",
   "metadata": {},
   "outputs": [],
   "source": [
    "# =============================================================================\n",
    "# Set time index\n",
    "# =============================================================================\n",
    "\n",
    "# Set indices to time index\n",
    "SitesData.set_index('TimeStamp', inplace=True)\n",
    "Watttime.set_index('timestamp_utc', inplace=True)\n",
    "\n",
    "# Sort time index\n",
    "SitesData.sort_index(inplace=True)\n",
    "Watttime.sort_index(inplace=True)\n",
    "\n",
    "SitesData = SitesData.tz_localize('UTC')\n",
    "\n",
    "# Resample site data to 30s intervals\n",
    "SitesData = SitesData.resample('30s').mean()"
   ]
  },
  {
   "cell_type": "code",
   "execution_count": 7,
   "id": "ca62f835",
   "metadata": {},
   "outputs": [],
   "source": [
    "# =============================================================================\n",
    "# Read Flow and time stamp columns:\n",
    "# =============================================================================\n",
    "\n",
    "flow_gpm = SitesData['FT1_GPM']"
   ]
  },
  {
   "cell_type": "code",
   "execution_count": 8,
   "id": "b8255564",
   "metadata": {},
   "outputs": [],
   "source": [
    "# =============================================================================\n",
    "# Replacing erroneous negative flow values with zero:\n",
    "# =============================================================================\n",
    "\n",
    "flow_is_nan = flow_gpm.isnull()\n",
    "flow_gpm.fillna(0., inplace=True)\n",
    "flow_gpm[flow_gpm < 0] = 0."
   ]
  },
  {
   "cell_type": "code",
   "execution_count": 9,
   "id": "415d18f3",
   "metadata": {},
   "outputs": [],
   "source": [
    "# =============================================================================\n",
    "# convert flow units and smooth:\n",
    "# =============================================================================\n",
    "flow_cms = flow_gpm * cms_per_gpm\n",
    "flow_per_user_cms = flow_cms / users\n",
    "flow_per_user_cms_rolling_mean = flow_per_user_cms.rolling(600, min_periods=1).mean()\n",
    "flow_time_s = flow_per_user_cms_rolling_mean.index.astype(int).values / ns_per_s\n",
    "flow_values_cms = flow_per_user_cms_rolling_mean.values"
   ]
  },
  {
   "cell_type": "code",
   "execution_count": 10,
   "id": "9435f43d",
   "metadata": {},
   "outputs": [],
   "source": [
    "# =============================================================================\n",
    "# Create function to interpolate flow:\n",
    "# =============================================================================\n",
    "\n",
    "time_start = flow_time_s.min()\n",
    "time_end = flow_time_s.max()\n",
    "Q = interp1d(flow_time_s,\n",
    "             flow_values_cms,\n",
    "             kind='cubic', fill_value=0.)"
   ]
  },
  {
   "cell_type": "code",
   "execution_count": 11,
   "id": "ce3a8b4c",
   "metadata": {},
   "outputs": [],
   "source": [
    "sol = sol_func(time_start, time_end, Q)"
   ]
  },
  {
   "cell_type": "code",
   "execution_count": 12,
   "id": "b7c52d10",
   "metadata": {},
   "outputs": [],
   "source": [
    "# =============================================================================\n",
    "# Find heat energy input at 5 minute intervals that match with WattTime data\n",
    "# =============================================================================\n",
    "\n",
    "h_in_kw = pd.Series(-K * (sol.sol(flow_time_s).ravel() - T_set) / j_per_kj,   \n",
    "                    index=flow_per_user_cms_rolling_mean.index)\n",
    "h_in_kw = h_in_kw.where(~flow_is_nan)\n",
    "h_in_kj = s_per_interval * h_in_kw\n",
    "h_in_kwh = h_in_kw * s_per_interval/s_per_hr\n",
    "h_in_kwh_5m = h_in_kj.resample('5min').sum() / s_per_hr"
   ]
  },
  {
   "cell_type": "code",
   "execution_count": 13,
   "id": "99a708d7-bab9-46ff-9170-2df951474838",
   "metadata": {},
   "outputs": [],
   "source": [
    "Watttime = Watttime.resample('5min').mean().interpolate()"
   ]
  },
  {
   "cell_type": "code",
   "execution_count": 14,
   "id": "1e54ee55",
   "metadata": {},
   "outputs": [
    {
     "data": {
      "text/plain": [
       "1.5981017730842997"
      ]
     },
     "execution_count": 14,
     "metadata": {},
     "output_type": "execute_result"
    }
   ],
   "source": [
    "# =============================================================================\n",
    "# Import and arrange emissions data for the required period\n",
    "# =============================================================================\n",
    "\n",
    "# Get Watttime data corresponding to SitesData time period\n",
    "Watttime = Watttime[(Watttime.index >= h_in_kwh_5m.index.min()) \n",
    "                    & ((Watttime.index <= h_in_kwh_5m.index.max()))]\n",
    "\n",
    "# Note that this is in pounds\n",
    "emissions_lbs_per_MWh = Watttime['value']\n",
    "emissions_kg_per_kWh = emissions_lbs_per_MWh * kg_per_lb / kwh_per_mwh\n",
    "kwh_and_emissions = (pd.concat([h_in_kwh_5m, emissions_kg_per_kWh], axis=1).dropna()\n",
    "                     .rename(columns={0 : 'kwh', 'value' : 'kg / kwh'}))\n",
    "daily_emissions_kg = (kwh_and_emissions['kwh'] * kwh_and_emissions['kg / kwh']).resample('d').sum()\n",
    "# =============================================================================\n",
    "# Average daily emissions (kg CO2 / day):\n",
    "# =============================================================================\n",
    "daily_emissions_kg.where(daily_emissions_kg > 0).mean()"
   ]
  },
  {
   "cell_type": "code",
   "execution_count": 15,
   "id": "8dacc3b4-5471-42e7-baca-fcca8032adef",
   "metadata": {},
   "outputs": [],
   "source": [
    "Rr = np.array([8,12,16,20,24]) * surf_area / R_to_RSI\n",
    "T_setp = np.linspace(50, 60, 5) + 273.15\n",
    "T_inval = np.linspace(10, 25, 5) + 273.15\n",
    "Units = np.linspace(0.90 * 351 / 0.95, 351 / 0.95, 5)\n",
    "\n",
    "mean = lambda x: sum(x) / len(x)"
   ]
  },
  {
   "cell_type": "markdown",
   "id": "7b9a85b0",
   "metadata": {},
   "source": [
    "# Sensitivity Analysis"
   ]
  },
  {
   "cell_type": "code",
   "execution_count": 16,
   "id": "4a5feb6f",
   "metadata": {},
   "outputs": [
    {
     "name": "stdout",
     "output_type": "stream",
     "text": [
      "0\n",
      "1\n",
      "2\n",
      "3\n",
      "4\n"
     ]
    }
   ],
   "source": [
    "import statistics\n",
    "# R - value:\n",
    "ere_R = np.zeros(5)\n",
    "i = 0\n",
    "for i in range(0,5):\n",
    "    print(i)\n",
    "    T_set = mean(T_setp)\n",
    "    users = mean(Units)\n",
    "    T_in = mean(T_inval)\n",
    "    R = Rr[i]\n",
    "    def waterheater_R(t, T, H_in, Q):\n",
    "        H_in = - K * (T - T_set)\n",
    "        result = (H_in + (c_p * rho * Q(t) * T_in) + (T_o / R) - (1 / R + c_p * rho * Q(t)) * T) / (c_p * rho * V)\n",
    "        return result \n",
    "\n",
    "    def sol_func(time_start, time_end, Q):\n",
    "        sol = scipy.integrate.solve_ivp(waterheater_R, [time_start, time_end],\n",
    "                                        [T_out], args=(H_in, Q),\n",
    "                                        method='LSODA', dense_output=True, max_step=300)\n",
    "        return sol\n",
    "    sol = sol_func(time_start, time_end, Q)\n",
    "    h_in_kw_R = pd.Series(-K * (sol.sol(flow_time_s).ravel() - T_set) / j_per_kj,\n",
    "                        index=flow_per_user_cms_rolling_mean.index)\n",
    "    h_in_kw_R = h_in_kw_R.where(~flow_is_nan)\n",
    "    h_in_kj_R = s_per_interval * h_in_kw_R\n",
    "    h_in_kwh_5m_R = h_in_kj_R.resample('5min').sum() / s_per_hr\n",
    "    # Note that this is in pounds\n",
    "    kwh_and_emissions_R = (pd.concat([h_in_kwh_5m_R, emissions_kg_per_kWh], axis=1).dropna()\n",
    "                         .rename(columns={0 : 'kwh', 'value' : 'kg / kwh'}))\n",
    "    daily_emissions_kg_R = (kwh_and_emissions_R['kwh'] * kwh_and_emissions_R['kg / kwh']).resample('d').sum()\n",
    "    \n",
    "      \n",
    "    ere_R[i]= daily_emissions_kg_R.where(daily_emissions_kg_R > 0).mean() \n",
    "R_uncertainty = statistics.stdev(ere_R)\n"
   ]
  },
  {
   "cell_type": "code",
   "execution_count": 17,
   "id": "8b3835e8",
   "metadata": {},
   "outputs": [
    {
     "name": "stdout",
     "output_type": "stream",
     "text": [
      "0\n",
      "1\n",
      "2\n",
      "3\n",
      "4\n"
     ]
    }
   ],
   "source": [
    "# Set point temperature:\n",
    "ere_T = np.zeros(5)\n",
    "for i in range(0,5):\n",
    "    print(i)\n",
    "    R = mean(Rr)\n",
    "    users = mean(Units)\n",
    "    T_in = mean(T_inval)\n",
    "    T_set = T_setp[i]\n",
    "    def waterheater_T(t, T, H_in, Q):\n",
    "        H_in = -K * (T - T_set)\n",
    "        result = (H_in + (c_p * rho * Q(t) * T_in) + (T_o / R) - (1 / R + c_p * rho * Q(t)) * T) / (c_p * rho * V)\n",
    "        return result\n",
    "    \n",
    "    def sol_func(time_start,time_end,Q):\n",
    "        sol = scipy.integrate.solve_ivp(waterheater_T, [time_start, time_end], [T_out], args=(H_in, Q),method='LSODA', dense_output=True,max_step = 100)\n",
    "        return sol\n",
    "    \n",
    "    sol = sol_func(time_start, time_end, Q)\n",
    "    h_in_kw_T = pd.Series(-K * (sol.sol(flow_time_s).ravel() - T_set) / j_per_kj,\n",
    "                        index=flow_per_user_cms_rolling_mean.index)\n",
    "    h_in_kw_T = h_in_kw_T.where(~flow_is_nan)\n",
    "    h_in_kj_T = s_per_interval * h_in_kw_T\n",
    "    h_in_kwh_5m_T = h_in_kj_T.resample('5min').sum() / s_per_hr\n",
    "    # Note that this is in pounds\n",
    "    kwh_and_emissions_T = (pd.concat([h_in_kwh_5m_T, emissions_kg_per_kWh], axis=1).dropna()\n",
    "                         .rename(columns={0 : 'kwh', 'value' : 'kg / kwh'}))\n",
    "    daily_emissions_kg_T = (kwh_and_emissions_T['kwh'] * kwh_and_emissions_T['kg / kwh']).resample('d').sum()    \n",
    "    ere_T[i]= daily_emissions_kg_T.where(daily_emissions_kg_T > 0).mean()\n",
    "Tset_uncertainty = statistics.stdev(ere_T)"
   ]
  },
  {
   "cell_type": "code",
   "execution_count": 18,
   "id": "d5fd091e",
   "metadata": {},
   "outputs": [
    {
     "name": "stdout",
     "output_type": "stream",
     "text": [
      "0\n",
      "1\n",
      "2\n",
      "3\n",
      "4\n"
     ]
    }
   ],
   "source": [
    "# cold water temperature in:\n",
    "ere_Tin = np.zeros(5)\n",
    "i = 0\n",
    "for i in range(0,5):\n",
    "    print(i)\n",
    "    R = mean(Rr)\n",
    "    users = mean(Units)\n",
    "    T_set = mean(T_setp)\n",
    "    T_in = T_inval[i]\n",
    "    def waterheater_T(t, T, H_in, Q):\n",
    "        H_in = -K * (T - T_set)\n",
    "        result = (H_in + (c_p * rho * Q(t) * T_in) + (T_o / R) - (1 / R + c_p * rho * Q(t)) * T) / (c_p * rho * V)\n",
    "        return result\n",
    "    \n",
    "    def sol_func(time_start,time_end,Q):\n",
    "        sol = scipy.integrate.solve_ivp(waterheater_T, [time_start, time_end], [T_out], args=(H_in, Q),method='LSODA', dense_output=True,max_step = 100)\n",
    "        return sol\n",
    "    \n",
    "    sol = sol_func(time_start, time_end, Q)\n",
    "    h_in_kw_T = pd.Series(-K * (sol.sol(flow_time_s).ravel() - T_set) / j_per_kj,\n",
    "                        index=flow_per_user_cms_rolling_mean.index)\n",
    "    h_in_kw_T = h_in_kw_T.where(~flow_is_nan)\n",
    "    h_in_kj_T = s_per_interval * h_in_kw_T\n",
    "    h_in_kwh_5m_T = h_in_kj_T.resample('5min').sum() / s_per_hr\n",
    "    # Note that this is in pounds\n",
    "    kwh_and_emissions_T = (pd.concat([h_in_kwh_5m_T, emissions_kg_per_kWh], axis=1).dropna()\n",
    "                         .rename(columns={0 : 'kwh', 'value' : 'kg / kwh'}))\n",
    "    daily_emissions_kg_T = (kwh_and_emissions_T['kwh'] * kwh_and_emissions_T['kg / kwh']).resample('d').sum()    \n",
    "    ere_Tin[i] = daily_emissions_kg_T.where(daily_emissions_kg_T > 0).mean()\n",
    "Tin_uncertainty = statistics.stdev(ere_Tin)\n"
   ]
  },
  {
   "cell_type": "code",
   "execution_count": 19,
   "id": "66891096",
   "metadata": {},
   "outputs": [
    {
     "name": "stdout",
     "output_type": "stream",
     "text": [
      "0\n",
      "1\n",
      "2\n",
      "3\n",
      "4\n"
     ]
    }
   ],
   "source": [
    "# Units:\n",
    "ere_U = np.zeros(len(Units))\n",
    "for i in range(len(Units)):\n",
    "    print(i)\n",
    "    R = mean(Rr)\n",
    "    T_set = mean(T_setp)\n",
    "    T_in = mean(T_inval)\n",
    "    users = Units[i]\n",
    "    def waterheater_U(t, T, H_in, Q):\n",
    "        H_in = -K * (T - T_set)\n",
    "        result = (H_in + (c_p * rho * Q(t) * T_in) + (T_o / R) - (1 / R + c_p * rho * Q(t)) * T) / (c_p * rho * V)\n",
    "        return result\n",
    "    \n",
    "    def sol_func(time_start,time_end,Q):\n",
    "        sol = scipy.integrate.solve_ivp(waterheater_U, [time_start, time_end], [T_out], args=(H_in, Q),method='LSODA', dense_output=True,max_step = 100)\n",
    "        return sol\n",
    "    flow_cms = flow_gpm * cms_per_gpm\n",
    "    flow_per_user_cms = flow_cms / users\n",
    "    flow_per_user_cms_rolling_mean = flow_per_user_cms.rolling(600, min_periods=1).mean()\n",
    "    flow_time_s = flow_per_user_cms_rolling_mean.index.astype(int).values / ns_per_s\n",
    "    flow_values_cms = flow_per_user_cms_rolling_mean.values\n",
    "    time_start = flow_time_s.min()\n",
    "    time_end = flow_time_s.max()\n",
    "    Q = interp1d(flow_time_s,\n",
    "                 flow_values_cms,\n",
    "                 kind='cubic', fill_value=0.)\n",
    "    sol = sol_func(time_start, time_end, Q)  \n",
    "    h_in_kw_U = pd.Series(-K * (sol.sol(flow_time_s).ravel() - T_set) / j_per_kj,\n",
    "                        index=flow_per_user_cms_rolling_mean.index)\n",
    "    h_in_kw_U = h_in_kw_U.where(~flow_is_nan)\n",
    "    h_in_kj_U = s_per_interval * h_in_kw_U\n",
    "    h_in_kwh_5m_U = h_in_kj_U.resample('5min').sum() / s_per_hr\n",
    "    # Note that this is in pounds\n",
    "    kwh_and_emissions_U = (pd.concat([h_in_kwh_5m_U, emissions_kg_per_kWh], axis=1).dropna()\n",
    "                         .rename(columns={0 : 'kwh', 'value' : 'kg / kwh'}))\n",
    "    daily_emissions_kg_U = (kwh_and_emissions_U['kwh'] * kwh_and_emissions_U['kg / kwh']).resample('d').sum()    \n",
    "    ere_U[i]= daily_emissions_kg_U.where(daily_emissions_kg_U > 0).mean()\n",
    "U_uncertainty = statistics.stdev(ere_U)"
   ]
  },
  {
   "cell_type": "code",
   "execution_count": 20,
   "id": "29cc14d1-fe46-4f2a-b189-11e353ca3829",
   "metadata": {},
   "outputs": [],
   "source": [
    "import seaborn as sns\n",
    "pal = sns.color_palette('husl', n_colors=5)"
   ]
  },
  {
   "cell_type": "code",
   "execution_count": 21,
   "id": "5c0a11cc",
   "metadata": {},
   "outputs": [
    {
     "data": {
      "image/png": "[encoded data removed]",
      "text/plain": [
       "<Figure size 576x360 with 1 Axes>"
      ]
     },
     "metadata": {
      "needs_background": "light"
     },
     "output_type": "display_data"
    }
   ],
   "source": [
    "# Box plot:\n",
    "data = [ere_R, ere_U, ere_T, ere_Tin]\n",
    "fig, ax = plt.subplots(figsize=(8, 5))\n",
    "labels = ['R-value','Units','$T_{set}$','$T_{inlet}$']\n",
    "bplot = ax.boxplot(data, vert=True,  # vertical box alignment\n",
    "                     patch_artist=True,  # fill with color\n",
    "                     labels=labels)  # will be used to label x-ticks\n",
    "ax.set_title('Sensitivity Analysis: ERWH')\n",
    "# fill with colors\n",
    "colors = [pal.as_hex()[i] for i in range(1,5)]\n",
    "for patch, color in zip(bplot['boxes'], colors):\n",
    "        patch.set_facecolor(color)\n",
    "\n",
    "ax.yaxis.grid(True)\n",
    "ax.set_ylabel('kg $CO_2$ emissions per day')\n",
    "plt.savefig('../img/Sensitivity_analysisERWH.png',dpi = 200)"
   ]
  },
  {
   "cell_type": "code",
   "execution_count": 22,
   "id": "f8bc96b2-7bf3-4514-bed0-b7580cc4ed97",
   "metadata": {},
   "outputs": [],
   "source": [
    "uncertainties = [R_uncertainty, Tset_uncertainty, Tin_uncertainty, U_uncertainty]"
   ]
  },
  {
   "cell_type": "code",
   "execution_count": 24,
   "id": "8c390cc0-a6a7-431f-89a3-a24ca6a3f35a",
   "metadata": {},
   "outputs": [
    {
     "name": "stdout",
     "output_type": "stream",
     "text": [
      "R fractional uncertainty (%): 4.666476403057481\n",
      "T_set fractional uncertainty (%): 33.56522702572704\n",
      "T_drop fractional uncertainty (%): 48.87117526550357\n",
      "User fractional uncertainty (%): 12.897121305711915\n"
     ]
    }
   ],
   "source": [
    "# Fractional Uncertainties:\n",
    "fractional_uncertainty_R = R_uncertainty/(sum(uncertainties))\n",
    "print('R fractional uncertainty (%):', fractional_uncertainty_R*100)\n",
    "fractional_uncertainty_Tset = Tset_uncertainty/(sum(uncertainties))\n",
    "print('T_set fractional uncertainty (%):',fractional_uncertainty_Tset*100)\n",
    "fractional_uncertainty_Tin = Tin_uncertainty/(sum(uncertainties))\n",
    "print('T_drop fractional uncertainty (%):',fractional_uncertainty_Tin*100)\n",
    "fractional_uncertainty_users = U_uncertainty/(sum(uncertainties))\n",
    "print('User fractional uncertainty (%):',fractional_uncertainty_users*100)"
   ]
  },
  {
   "cell_type": "code",
   "execution_count": null,
   "id": "ec959bd8-42aa-4861-add1-d814b96face7",
   "metadata": {},
   "outputs": [],
   "source": []
  }
 ],
 "metadata": {
  "kernelspec": {
   "display_name": "Python 3 (ipykernel)",
   "language": "python",
   "name": "python3"
  },
  "language_info": {
   "codemirror_mode": {
    "name": "ipython",
    "version": 3
   },
   "file_extension": ".py",
   "mimetype": "text/x-python",
   "name": "python",
   "nbconvert_exporter": "python",
   "pygments_lexer": "ipython3",
   "version": "3.9.11"
  }
 },
 "nbformat": 4,
 "nbformat_minor": 5
}
