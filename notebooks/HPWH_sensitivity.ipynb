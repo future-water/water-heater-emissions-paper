{
 "cells": [
  {
   "cell_type": "code",
   "execution_count": 1,
   "id": "71a317d8",
   "metadata": {},
   "outputs": [],
   "source": [
    "import numpy as np\n",
    "import pandas as pd\n",
    "import matplotlib.pyplot as plt\n",
    "from contextlib import contextmanager\n",
    "import sys, os"
   ]
  },
  {
   "cell_type": "code",
   "execution_count": 2,
   "id": "0d28deb9",
   "metadata": {},
   "outputs": [],
   "source": [
    "kg_per_lb = 0.453\n",
    "kwh_per_mwh = 1000\n",
    "\n",
    "Watttime = pd.read_csv(\"../data/ERCOT_EASTTX-MOER_2021-2023.csv\")\n",
    "# Convert timestamp strings to datetimes\n",
    "Watttime['timestamp_local'] = pd.to_datetime(Watttime['timestamp_local'])\n",
    "Watttime['timestamp_utc'] = pd.to_datetime(Watttime['timestamp_utc'])\n",
    "assert not Watttime.duplicated(subset=['timestamp_utc']).any()\n",
    "# Set indices to time index\n",
    "Watttime.set_index('timestamp_utc', inplace=True)\n",
    "# Sort time index\n",
    "Watttime.sort_index(inplace=True)\n",
    "Mean_emissions = Watttime['value'].mean()*(kg_per_lb / kwh_per_mwh)"
   ]
  },
  {
   "cell_type": "code",
   "execution_count": 3,
   "id": "5a0f8e74",
   "metadata": {},
   "outputs": [],
   "source": [
    "# Importing flow values : \n",
    "gpm_to_kgs = 0.0630901964 \n",
    "users = 351\n",
    "ns_per_s = 1e9\n",
    "gpm_m3s = 0.0000630901964\n",
    "s_per_interval = 30\n",
    "s_per_hr = 3600\n",
    "T_cold = 20\n",
    "\n",
    "SitesData = pd.read_csv(\"../data/site_a.csv\")\n",
    "SitesData['TimeStamp'] = pd.to_datetime(SitesData['TimeStamp'])\n",
    "assert not SitesData.duplicated(subset=['TimeStamp']).any()\n",
    "SitesData.set_index('TimeStamp', inplace=True)\n",
    "SitesData.sort_index(inplace=True)\n",
    "SitesData = SitesData.tz_localize('UTC')\n",
    "SitesData = SitesData.resample('30s').mean()\n",
    "flow_gpm = SitesData['FT1_GPM']\n",
    "flow_is_nan = flow_gpm.isnull()\n",
    "flow_gpm.fillna(0., inplace=True)\n",
    "flow_gpm[flow_gpm < 0] = 0.\n",
    "flow_m3s = flow_gpm * gpm_m3s\n",
    "flow_per_user_m3s = flow_m3s / users\n",
    "flow_per_user_m3s_rolling_mean = flow_per_user_m3s.rolling(120, min_periods=1, center=True).mean()\n",
    "flow_time_s = flow_per_user_m3s_rolling_mean.index.astype(int).values / ns_per_s\n",
    "flow_values_m3s = flow_per_user_m3s_rolling_mean.resample('1d').sum()\n",
    "\n",
    "# Computing heat demand values\n",
    "c_p = 4184    #J/kg K\n",
    "delta_t = 40  # K \n",
    "density = 1000 #kg/m3"
   ]
  },
  {
   "cell_type": "code",
   "execution_count": 4,
   "id": "3fc3492d",
   "metadata": {},
   "outputs": [],
   "source": [
    "from tespy.networks import Network\n",
    "from tespy.components import (\n",
    "    CycleCloser, Compressor, Valve, HeatExchangerSimple\n",
    ")\n",
    "from tespy.connections import Connection\n",
    "import statistics\n",
    "\n",
    "\n",
    "# create a network object with R134a as fluid\n",
    "fluid_list = ['R134a']\n",
    "my_plant = Network(fluids=fluid_list)\n",
    "my_plant.set_attr(T_unit='C', p_unit='bar', h_unit='J / kg')\n",
    "cc = CycleCloser('cycle closer')\n",
    "# heat sink\n",
    "co = HeatExchangerSimple('condenser')\n",
    "# heat source\n",
    "ev = HeatExchangerSimple('evaporator')\n",
    "va = Valve('expansion valve')\n",
    "cp = Compressor('compressor')\n",
    "\n",
    "# connections of heat pump\n",
    "c1 = Connection(cc, 'out1', ev, 'in1', label='1')\n",
    "c2 = Connection(ev, 'out1', cp, 'in1', label='2')\n",
    "c3 = Connection(cp, 'out1', co, 'in1', label='3')\n",
    "c4 = Connection(co, 'out1', va, 'in1', label='4')\n",
    "c0 = Connection(va, 'out1', cc, 'in1', label='0')\n",
    "my_plant.add_conns(c1, c2, c3, c4, c0)"
   ]
  },
  {
   "cell_type": "code",
   "execution_count": 5,
   "id": "123a0660",
   "metadata": {},
   "outputs": [],
   "source": [
    "# Paraameter values for unceratinty calculations: \n",
    "\n",
    "eta_s = np.linspace(0.65, 1.0)\n",
    "T_set = np.linspace(50, 60)\n",
    "T_amb = np.linspace(0, 40)\n",
    "T_drop = np.linspace(5, 12)\n",
    "user_range = np.linspace(0.90 * 351 / 0.95, 351 / 0.95)\n",
    "T_colds = np.linspace(10, 30)"
   ]
  },
  {
   "cell_type": "code",
   "execution_count": 6,
   "id": "9e7547e7-e4fd-4741-bc00-7c71ec1850c1",
   "metadata": {},
   "outputs": [],
   "source": [
    "mean = lambda x: sum(x) / len(x)"
   ]
  },
  {
   "cell_type": "markdown",
   "id": "00549299",
   "metadata": {},
   "source": [
    "### T_set"
   ]
  },
  {
   "cell_type": "code",
   "execution_count": 7,
   "id": "96e912a4",
   "metadata": {},
   "outputs": [],
   "source": [
    "# Iterating through T_set values to compute uncertainty:\n",
    "\n",
    "cop_Tset = np.zeros(len(T_set))\n",
    "P= []\n",
    "i = 0\n",
    "for i in range(len(T_set)):\n",
    "    delta_t = T_set[i] - mean(T_colds)\n",
    "    Q_array = flow_values_m3s*c_p*delta_t*density\n",
    "    Q_array[Q_array == 0] = Q_array.mean()\n",
    "    Q_array = pd.DataFrame(Q_array)\n",
    "    Q_array = Q_array.values\n",
    "\n",
    "    co.set_attr(pr=0.98, Q=- Q_array.mean())\n",
    "    ev.set_attr(pr = 0.98)\n",
    "    cp.set_attr(eta_s=mean(eta_s))\n",
    "    c2.set_attr(T=mean(T_amb) - mean(T_drop), x=1, fluid={'R134a': 1})\n",
    "    c4.set_attr(T=T_set[i], x=0)\n",
    "    @contextmanager\n",
    "    def suppress_stdout():\n",
    "        with open(os.devnull, \"w\") as devnull:\n",
    "            old_stdout = sys.stdout\n",
    "            sys.stdout = devnull\n",
    "            try:  \n",
    "                yield\n",
    "            finally:\n",
    "                sys.stdout = old_stdout\n",
    "    with suppress_stdout():\n",
    "        my_plant.solve(mode='design')\n",
    "        cop_Tset[i] = abs(co.Q.val) / cp.P.val\n",
    "        P.append(cp.P.val)"
   ]
  },
  {
   "cell_type": "code",
   "execution_count": 8,
   "id": "d5a6ae5a",
   "metadata": {},
   "outputs": [],
   "source": [
    "# Computing daily emissions for every T_set:\n",
    "\n",
    "daily_emissions_Tset = ((np.array(P)*(s_per_interval/s_per_hr))/1000)*Mean_emissions\n",
    "Tset_uncertainty =  statistics.stdev(daily_emissions_Tset)"
   ]
  },
  {
   "cell_type": "markdown",
   "id": "fa058b88",
   "metadata": {},
   "source": [
    "### ETA (Isentropic efficiency)"
   ]
  },
  {
   "cell_type": "code",
   "execution_count": 9,
   "id": "0d6d2fd6",
   "metadata": {},
   "outputs": [],
   "source": [
    "# Iterating through 6 ETA values:\n",
    "\n",
    "cop_eta = np.zeros(len(eta_s))\n",
    "P_eta = []\n",
    "\n",
    "delta_t = mean(T_set) - mean(T_colds)\n",
    "Q_array = flow_values_m3s*c_p*delta_t*density\n",
    "Q_array[Q_array == 0] = Q_array.mean()\n",
    "Q_array = pd.DataFrame(Q_array)\n",
    "Q_array = Q_array.values\n",
    "    \n",
    "for i in range(len(eta_s)):\n",
    "    co.set_attr(pr=0.98, Q=-Q_array.mean())\n",
    "    ev.set_attr(pr = 0.98)\n",
    "    cp.set_attr(eta_s=eta_s[i])\n",
    "    c2.set_attr(T=mean(T_amb) - mean(T_drop), x=1, fluid={'R134a': 1})\n",
    "    c4.set_attr(T=mean(T_set), x=0)\n",
    "    @contextmanager\n",
    "    def suppress_stdout():\n",
    "        with open(os.devnull, \"w\") as devnull:\n",
    "            old_stdout = sys.stdout\n",
    "            sys.stdout = devnull\n",
    "            try:  \n",
    "                yield\n",
    "            finally:\n",
    "                sys.stdout = old_stdout\n",
    "    with suppress_stdout():\n",
    "        my_plant.solve(mode='design')\n",
    "        cop_eta[i] = abs(co.Q.val) / cp.P.val\n",
    "        P_eta.append(cp.P.val)"
   ]
  },
  {
   "cell_type": "code",
   "execution_count": 10,
   "id": "d74b88e5",
   "metadata": {},
   "outputs": [],
   "source": [
    "daily_emissions_ETA = ((np.array(P_eta)*(s_per_interval/s_per_hr))/1000)*Mean_emissions\n",
    "ETA_uncertainty =  statistics.stdev(daily_emissions_ETA)"
   ]
  },
  {
   "cell_type": "markdown",
   "id": "d642fdc0",
   "metadata": {},
   "source": [
    "### T_amb (Ambient air temperature)"
   ]
  },
  {
   "cell_type": "code",
   "execution_count": 11,
   "id": "85b579f2",
   "metadata": {},
   "outputs": [],
   "source": [
    "P_T = []\n",
    "\n",
    "delta_t = mean(T_set) - mean(T_colds)\n",
    "Q_array = flow_values_m3s*c_p*delta_t*density\n",
    "Q_array[Q_array == 0] = Q_array.mean()\n",
    "Q_array = pd.DataFrame(Q_array)\n",
    "Q_array = Q_array.values\n",
    "\n",
    "cop_t = np.zeros(len(T_amb))\n",
    "for i in range(len(T_amb)):\n",
    "    co.set_attr(pr=0.98, Q=-Q_array.mean())\n",
    "    ev.set_attr(pr = 0.98)\n",
    "    cp.set_attr(eta_s=mean(eta_s))\n",
    "    c2.set_attr(T=T_amb[i] - mean(T_drop), x=1, fluid={'R134a': 1})\n",
    "    c4.set_attr(T=mean(T_set), x=0)\n",
    "    @contextmanager\n",
    "    def suppress_stdout():\n",
    "        with open(os.devnull, \"w\") as devnull:\n",
    "            old_stdout = sys.stdout\n",
    "            sys.stdout = devnull\n",
    "            try:  \n",
    "                yield\n",
    "            finally:\n",
    "                sys.stdout = old_stdout\n",
    "    with suppress_stdout():\n",
    "        my_plant.solve(mode='design')\n",
    "        cop_t[i] = abs(co.Q.val) / cp.P.val\n",
    "        P_T.append(cp.P.val)"
   ]
  },
  {
   "cell_type": "code",
   "execution_count": 12,
   "id": "be7092ee",
   "metadata": {},
   "outputs": [],
   "source": [
    "daily_emissions_T = ((np.array(P_T)*(s_per_interval/s_per_hr))/1000)*Mean_emissions\n",
    "T_uncertainty =  statistics.stdev(daily_emissions_T)"
   ]
  },
  {
   "cell_type": "markdown",
   "id": "b9f6f291-32c1-40ea-ab3f-da60172e8f4c",
   "metadata": {},
   "source": [
    "### T_drop (Temperature drop across evaporator)"
   ]
  },
  {
   "cell_type": "code",
   "execution_count": 13,
   "id": "9cb485c9-f182-4beb-b32e-f99abec453f7",
   "metadata": {},
   "outputs": [],
   "source": [
    "P_Tdrop = []\n",
    "\n",
    "delta_t = mean(T_set) - mean(T_colds)\n",
    "Q_array = flow_values_m3s*c_p*delta_t*density\n",
    "Q_array[Q_array == 0] = Q_array.mean()\n",
    "Q_array = pd.DataFrame(Q_array)\n",
    "Q_array = Q_array.values\n",
    "\n",
    "cop_tdrop = np.zeros(len(T_drop))\n",
    "\n",
    "for i in range(len(T_amb)):\n",
    "    co.set_attr(pr=0.98, Q=-Q_array.mean())\n",
    "    ev.set_attr(pr = 0.98)\n",
    "    cp.set_attr(eta_s=mean(eta_s))\n",
    "    c2.set_attr(T=mean(T_amb) - T_drop[i], x=1, fluid={'R134a': 1})\n",
    "    c4.set_attr(T=mean(T_set), x=0)\n",
    "    @contextmanager\n",
    "    def suppress_stdout():\n",
    "        with open(os.devnull, \"w\") as devnull:\n",
    "            old_stdout = sys.stdout\n",
    "            sys.stdout = devnull\n",
    "            try:  \n",
    "                yield\n",
    "            finally:\n",
    "                sys.stdout = old_stdout\n",
    "    with suppress_stdout():\n",
    "        my_plant.solve(mode='design')\n",
    "        cop_tdrop[i] = abs(co.Q.val) / cp.P.val\n",
    "        P_Tdrop.append(cp.P.val)"
   ]
  },
  {
   "cell_type": "code",
   "execution_count": 14,
   "id": "2d07642c-0c3c-4cb5-a02a-d7fd468f90f4",
   "metadata": {},
   "outputs": [],
   "source": [
    "daily_emissions_Tdrop = ((np.array(P_Tdrop)*(s_per_interval/s_per_hr))/1000)*Mean_emissions\n",
    "Tdrop_uncertainty =  statistics.stdev(daily_emissions_Tdrop)"
   ]
  },
  {
   "cell_type": "markdown",
   "id": "1cf56aaf-c097-46b0-b987-7a942db1d595",
   "metadata": {},
   "source": [
    "### Users"
   ]
  },
  {
   "cell_type": "code",
   "execution_count": 15,
   "id": "075d2372-b8d9-4abc-9841-a08ea4986d27",
   "metadata": {},
   "outputs": [],
   "source": [
    "P_user = []\n",
    "\n",
    "cop_user = np.zeros(len(user_range))\n",
    "\n",
    "for i in range(len(user_range)):\n",
    "    user = user_range[i]\n",
    "    flow_per_user_m3s = flow_m3s / user\n",
    "    flow_per_user_m3s_rolling_mean = flow_per_user_m3s.rolling(600, min_periods=1).mean()\n",
    "    flow_time_s = flow_per_user_m3s_rolling_mean.index.astype(int).values / ns_per_s\n",
    "    flow_values_m3s = flow_per_user_m3s_rolling_mean.resample('1d').sum()\n",
    "    delta_t = mean(T_set) - mean(T_colds)\n",
    "    Q_array = flow_values_m3s*c_p*delta_t*density\n",
    "    Q_array[Q_array == 0] = Q_array.mean()\n",
    "    Q_array = pd.DataFrame(Q_array)\n",
    "    Q_array = Q_array.values\n",
    "    \n",
    "    co.set_attr(pr=0.98, Q=-Q_array.mean())\n",
    "    ev.set_attr(pr = 0.98)\n",
    "    cp.set_attr(eta_s=mean(eta_s))\n",
    "    c2.set_attr(T=mean(T_amb) - mean(T_drop), x=1, fluid={'R134a': 1})\n",
    "    c4.set_attr(T=mean(T_set), x=0)\n",
    "    @contextmanager\n",
    "    def suppress_stdout():\n",
    "        with open(os.devnull, \"w\") as devnull:\n",
    "            old_stdout = sys.stdout\n",
    "            sys.stdout = devnull\n",
    "            try:  \n",
    "                yield\n",
    "            finally:\n",
    "                sys.stdout = old_stdout\n",
    "    with suppress_stdout():\n",
    "        my_plant.solve(mode='design')\n",
    "        cop_user[i] = abs(co.Q.val) / cp.P.val\n",
    "        P_user.append(cp.P.val)"
   ]
  },
  {
   "cell_type": "code",
   "execution_count": 16,
   "id": "5c39f3f4-d99d-4b1a-aa6c-01cc51e525d5",
   "metadata": {},
   "outputs": [],
   "source": [
    "daily_emissions_user = ((np.array(P_user)*(s_per_interval/s_per_hr))/1000)*Mean_emissions\n",
    "user_uncertainty =  statistics.stdev(daily_emissions_user)"
   ]
  },
  {
   "cell_type": "markdown",
   "id": "2f731503-49a8-4069-a4c8-0e97acf32a40",
   "metadata": {},
   "source": [
    "### T_cold"
   ]
  },
  {
   "cell_type": "code",
   "execution_count": 17,
   "id": "dbb12854-eb16-4c95-9f79-bc6b404459ab",
   "metadata": {},
   "outputs": [],
   "source": [
    "# Iterating through T_set values to compute uncertainty:\n",
    "\n",
    "cop_Tcold = np.zeros(len(T_colds))\n",
    "P = []\n",
    "i = 0\n",
    "for i in range(len(T_colds)):\n",
    "    delta_t = mean(T_set) - T_colds[i]\n",
    "    Q_array = flow_values_m3s*c_p*delta_t*density\n",
    "    Q_array[Q_array == 0] = Q_array.mean()\n",
    "    Q_array = pd.DataFrame(Q_array)\n",
    "    Q_array = Q_array.values\n",
    "\n",
    "    co.set_attr(pr=0.98, Q=- Q_array.mean())\n",
    "    ev.set_attr(pr = 0.98)\n",
    "    cp.set_attr(eta_s=mean(eta_s))\n",
    "    c2.set_attr(T=mean(T_amb) - mean(T_drop), x=1, fluid={'R134a': 1})\n",
    "    c4.set_attr(T=mean(T_set), x=0)\n",
    "    @contextmanager\n",
    "    def suppress_stdout():\n",
    "        with open(os.devnull, \"w\") as devnull:\n",
    "            old_stdout = sys.stdout\n",
    "            sys.stdout = devnull\n",
    "            try:  \n",
    "                yield\n",
    "            finally:\n",
    "                sys.stdout = old_stdout\n",
    "    with suppress_stdout():\n",
    "        my_plant.solve(mode='design')\n",
    "        cop_Tcold[i] = abs(co.Q.val) / cp.P.val\n",
    "        P.append(cp.P.val)"
   ]
  },
  {
   "cell_type": "code",
   "execution_count": 18,
   "id": "5191101b-f21b-45bd-a794-2156f62032bf",
   "metadata": {},
   "outputs": [],
   "source": [
    "# Computing daily emissions for every T_set:\n",
    "\n",
    "daily_emissions_Tcold = ((np.array(P)*(s_per_interval/s_per_hr))/1000)*Mean_emissions\n",
    "Tcold_uncertainty =  statistics.stdev(daily_emissions_Tcold)"
   ]
  },
  {
   "cell_type": "code",
   "execution_count": 19,
   "id": "24619f20",
   "metadata": {},
   "outputs": [],
   "source": [
    "data = [daily_emissions_Tset,daily_emissions_ETA,daily_emissions_T,\n",
    "        daily_emissions_Tdrop,daily_emissions_user,daily_emissions_Tcold]"
   ]
  },
  {
   "cell_type": "code",
   "execution_count": 20,
   "id": "8c26e852-2f50-43a7-8249-9a985f0a4176",
   "metadata": {},
   "outputs": [],
   "source": [
    "uncertainties = [Tset_uncertainty, ETA_uncertainty, T_uncertainty,\n",
    "                 Tdrop_uncertainty, user_uncertainty, Tcold_uncertainty]"
   ]
  },
  {
   "cell_type": "code",
   "execution_count": 21,
   "id": "9431b449-f5d9-4c1b-9abd-a385a73ccd20",
   "metadata": {},
   "outputs": [],
   "source": [
    "import seaborn as sns\n",
    "pal = sns.color_palette('husl', n_colors=6)"
   ]
  },
  {
   "cell_type": "code",
   "execution_count": 22,
   "id": "6bfa60a9",
   "metadata": {},
   "outputs": [
    {
     "data": {
      "image/png": "[encoded data removed]",
      "text/plain": [
       "<Figure size 576x360 with 1 Axes>"
      ]
     },
     "metadata": {
      "needs_background": "light"
     },
     "output_type": "display_data"
    }
   ],
   "source": [
    "fig, ax = plt.subplots(figsize=(8, 5))\n",
    "labels = ['$T_{set}$','$\\eta_s$','$T_{amb}$', '$T_{drop}$', 'Units', '$T_{inlet}$']\n",
    "bplot = ax.boxplot(data, vert=True,  # vertical box alignment\n",
    "                     patch_artist=True,  # fill with color\n",
    "                     labels=labels)  # will be used to label x-ticks\n",
    "ax.set_title('Sensitivity Analysis: HPWH')\n",
    "# fill with colors\n",
    "colors = [pal.as_hex()[i] for i in range(6)]\n",
    "for patch, color in zip(bplot['boxes'], colors):\n",
    "        patch.set_facecolor(color)\n",
    "\n",
    "ax.yaxis.grid(True)\n",
    "ax.set_ylabel('kg $CO_2$ emissions per day')\n",
    "ax.set_ylim(0,0.5)\n",
    "plt.savefig('../img/Sensitivity_analysisHPWH.png',dpi = 200)"
   ]
  },
  {
   "cell_type": "code",
   "execution_count": 23,
   "id": "55e38fc5",
   "metadata": {},
   "outputs": [
    {
     "name": "stdout",
     "output_type": "stream",
     "text": [
      "ETA fractional uncertainty (%): 12.648156169128372\n",
      "Tamb fractional uncertainty (%): 36.59595517407087\n",
      "T_set fractional uncertainty (%): 19.7242396810832\n",
      "T_drop fractional uncertainty (%): 6.414540700357942\n",
      "User fractional uncertainty (%): 4.04855865183162\n",
      "T_inlet fractional uncertainty (%): 20.568549623528003\n"
     ]
    }
   ],
   "source": [
    "# Fractional Uncertainties:\n",
    "fractional_uncertainty_ETA = ETA_uncertainty/(sum(uncertainties))\n",
    "print('ETA fractional uncertainty (%):',fractional_uncertainty_ETA*100)\n",
    "fractional_uncertainty_Tamb = T_uncertainty/(sum(uncertainties))\n",
    "print('Tamb fractional uncertainty (%):', fractional_uncertainty_Tamb*100)\n",
    "fractional_uncertainty_Tset = Tset_uncertainty/(sum(uncertainties))\n",
    "print('T_set fractional uncertainty (%):',fractional_uncertainty_Tset*100)\n",
    "fractional_uncertainty_Tdrop = Tdrop_uncertainty/(sum(uncertainties))\n",
    "print('T_drop fractional uncertainty (%):',fractional_uncertainty_Tdrop*100)\n",
    "fractional_uncertainty_users = user_uncertainty/(sum(uncertainties))\n",
    "print('User fractional uncertainty (%):',fractional_uncertainty_users*100)\n",
    "fractional_uncertainty_Tcold = Tcold_uncertainty/(sum(uncertainties))\n",
    "print('T_inlet fractional uncertainty (%):',fractional_uncertainty_Tcold*100)"
   ]
  },
  {
   "cell_type": "code",
   "execution_count": null,
   "id": "5f2da597-aeb8-4355-8238-169f64997f90",
   "metadata": {},
   "outputs": [],
   "source": []
  }
 ],
 "metadata": {
  "kernelspec": {
   "display_name": "Python 3 (ipykernel)",
   "language": "python",
   "name": "python3"
  },
  "language_info": {
   "codemirror_mode": {
    "name": "ipython",
    "version": 3
   },
   "file_extension": ".py",
   "mimetype": "text/x-python",
   "name": "python",
   "nbconvert_exporter": "python",
   "pygments_lexer": "ipython3",
   "version": "3.9.11"
  }
 },
 "nbformat": 4,
 "nbformat_minor": 5
}
