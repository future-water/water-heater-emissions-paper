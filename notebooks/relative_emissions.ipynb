{
 "cells": [
  {
   "cell_type": "code",
   "execution_count": 1,
   "id": "84176e20-49e4-44dc-83ef-cb7e461dc411",
   "metadata": {},
   "outputs": [],
   "source": [
    "import numpy as np\n",
    "import pandas as pd\n",
    "import matplotlib.pyplot as plt"
   ]
  },
  {
   "cell_type": "code",
   "execution_count": 2,
   "id": "ae9b51c6-2f51-42cd-89bf-0e8833347cc0",
   "metadata": {},
   "outputs": [],
   "source": [
    "site_a = pd.read_csv('../data/site_a_emissions_results.csv', index_col=0)\n",
    "site_d = pd.read_csv('../data/site_d_emissions_results.csv', index_col=0)\n",
    "site_c = pd.read_csv('../data/site_c_emissions_results.csv', index_col=0)\n",
    "site_b = pd.read_csv('../data/site_b_emissions_results.csv', index_col=0)"
   ]
  },
  {
   "cell_type": "code",
   "execution_count": 3,
   "id": "fa758069-9846-4043-925c-03a1bca4387c",
   "metadata": {},
   "outputs": [],
   "source": [
    "site_a.index = pd.to_datetime(site_a.index)\n",
    "site_d.index = pd.to_datetime(site_d.index)\n",
    "site_c.index = pd.to_datetime(site_c.index)\n",
    "site_b.index = pd.to_datetime(site_b.index)"
   ]
  },
  {
   "cell_type": "code",
   "execution_count": 4,
   "id": "c67c31f3-5a39-4e6b-92a8-fe2863340f1d",
   "metadata": {},
   "outputs": [],
   "source": [
    "site_a_droplist = ['2021-05-18', '2021-06-23', '2021-09-21', '2021-09-30', '2021-09-30', '2021-10-26',\n",
    "            '2022-03-12', '2022-03-13', '2022-03-14', '2022-03-15', '2022-03-16',\n",
    "            '2022-03-23', '2022-04-04', '2022-04-05', '2022-10-21', '2022-10-22', \n",
    "            '2022-10-23', '2022-10-24', '2022-10-25']\n",
    "\n",
    "site_d_droplist = ['20210426', '20210518', '20210623', '20211026', \n",
    "            '20211111', '20221025', '20221101', '20230105']\n",
    "\n",
    "site_b_droplist = ['20210623', '20211026', '20221025', '20221101', '20230105']\n",
    "\n",
    "site_c_droplist = ['20210623', '20221025', '20211026', '20221101', '20230105']"
   ]
  },
  {
   "cell_type": "code",
   "execution_count": 5,
   "id": "ddb816e9-fc34-406d-a5f0-529a9cdf7f63",
   "metadata": {},
   "outputs": [],
   "source": [
    "index = pd.date_range('20210301', '20230228').tz_localize('UTC')"
   ]
  },
  {
   "cell_type": "code",
   "execution_count": 6,
   "id": "ed917713-3983-4f15-ada1-0fb492abce70",
   "metadata": {},
   "outputs": [],
   "source": [
    "df = pd.concat([site_a.drop(site_a_droplist).reindex(index),\n",
    "                site_d.drop(site_d_droplist).reindex(index), \n",
    "                site_c.drop(site_c_droplist).reindex(index),\n",
    "                site_b.drop(site_b_droplist).reindex(index)], axis=1).replace(0, np.nan)\n",
    "df.columns = ['ERWH.site_a', 'HPWH.site_a', 'NGWH.site_a',\n",
    " 'ERWH.site_d', 'HPWH.site_d', 'NGWH.site_d',\n",
    " 'ERWH.site_c', 'HPWH.site_c', 'NGWH.site_c',\n",
    " 'ERWH.site_b', 'HPWH.site_b', 'NGWH.site_b']"
   ]
  },
  {
   "cell_type": "code",
   "execution_count": 7,
   "id": "a47dd7be-81ea-4147-a376-9af743a06d71",
   "metadata": {},
   "outputs": [
    {
     "data": {
      "text/html": [
       "<div>\n",
       "<style scoped>\n",
       "    .dataframe tbody tr th:only-of-type {\n",
       "        vertical-align: middle;\n",
       "    }\n",
       "\n",
       "    .dataframe tbody tr th {\n",
       "        vertical-align: top;\n",
       "    }\n",
       "\n",
       "    .dataframe thead th {\n",
       "        text-align: right;\n",
       "    }\n",
       "</style>\n",
       "<table border=\"1\" class=\"dataframe\">\n",
       "  <thead>\n",
       "    <tr style=\"text-align: right;\">\n",
       "      <th></th>\n",
       "      <th>ERWH</th>\n",
       "      <th>HPWH</th>\n",
       "      <th>NGWH</th>\n",
       "    </tr>\n",
       "  </thead>\n",
       "  <tbody>\n",
       "    <tr>\n",
       "      <th>2021-02-12 00:00:00+00:00</th>\n",
       "      <td>1.089778</td>\n",
       "      <td>0.496163</td>\n",
       "      <td>0.523282</td>\n",
       "    </tr>\n",
       "    <tr>\n",
       "      <th>2021-02-13 00:00:00+00:00</th>\n",
       "      <td>5.210844</td>\n",
       "      <td>1.972409</td>\n",
       "      <td>2.508071</td>\n",
       "    </tr>\n",
       "    <tr>\n",
       "      <th>2021-02-14 00:00:00+00:00</th>\n",
       "      <td>5.234899</td>\n",
       "      <td>1.733180</td>\n",
       "      <td>2.509250</td>\n",
       "    </tr>\n",
       "    <tr>\n",
       "      <th>2021-02-15 00:00:00+00:00</th>\n",
       "      <td>5.263060</td>\n",
       "      <td>2.007223</td>\n",
       "      <td>2.543746</td>\n",
       "    </tr>\n",
       "    <tr>\n",
       "      <th>2021-02-16 00:00:00+00:00</th>\n",
       "      <td>0.673710</td>\n",
       "      <td>1.346697</td>\n",
       "      <td>0.466484</td>\n",
       "    </tr>\n",
       "    <tr>\n",
       "      <th>...</th>\n",
       "      <td>...</td>\n",
       "      <td>...</td>\n",
       "      <td>...</td>\n",
       "    </tr>\n",
       "    <tr>\n",
       "      <th>2023-05-15 00:00:00+00:00</th>\n",
       "      <td>3.724502</td>\n",
       "      <td>0.917607</td>\n",
       "      <td>1.894401</td>\n",
       "    </tr>\n",
       "    <tr>\n",
       "      <th>2023-05-16 00:00:00+00:00</th>\n",
       "      <td>3.938762</td>\n",
       "      <td>0.970874</td>\n",
       "      <td>2.004119</td>\n",
       "    </tr>\n",
       "    <tr>\n",
       "      <th>2023-05-17 00:00:00+00:00</th>\n",
       "      <td>4.585051</td>\n",
       "      <td>1.062243</td>\n",
       "      <td>2.227628</td>\n",
       "    </tr>\n",
       "    <tr>\n",
       "      <th>2023-05-18 00:00:00+00:00</th>\n",
       "      <td>4.757599</td>\n",
       "      <td>1.063942</td>\n",
       "      <td>2.248748</td>\n",
       "    </tr>\n",
       "    <tr>\n",
       "      <th>2023-05-19 00:00:00+00:00</th>\n",
       "      <td>2.799905</td>\n",
       "      <td>0.003877</td>\n",
       "      <td>1.303541</td>\n",
       "    </tr>\n",
       "  </tbody>\n",
       "</table>\n",
       "<p>827 rows × 3 columns</p>\n",
       "</div>"
      ],
      "text/plain": [
       "                               ERWH      HPWH      NGWH\n",
       "2021-02-12 00:00:00+00:00  1.089778  0.496163  0.523282\n",
       "2021-02-13 00:00:00+00:00  5.210844  1.972409  2.508071\n",
       "2021-02-14 00:00:00+00:00  5.234899  1.733180  2.509250\n",
       "2021-02-15 00:00:00+00:00  5.263060  2.007223  2.543746\n",
       "2021-02-16 00:00:00+00:00  0.673710  1.346697  0.466484\n",
       "...                             ...       ...       ...\n",
       "2023-05-15 00:00:00+00:00  3.724502  0.917607  1.894401\n",
       "2023-05-16 00:00:00+00:00  3.938762  0.970874  2.004119\n",
       "2023-05-17 00:00:00+00:00  4.585051  1.062243  2.227628\n",
       "2023-05-18 00:00:00+00:00  4.757599  1.063942  2.248748\n",
       "2023-05-19 00:00:00+00:00  2.799905  0.003877  1.303541\n",
       "\n",
       "[827 rows x 3 columns]"
      ]
     },
     "execution_count": 7,
     "metadata": {},
     "output_type": "execute_result"
    }
   ],
   "source": [
    "site_b"
   ]
  },
  {
   "cell_type": "code",
   "execution_count": 8,
   "id": "c84684cc-e63e-4c72-9854-a95925f166a3",
   "metadata": {},
   "outputs": [],
   "source": [
    "erwh_mean = df[df.columns[df.columns.str.startswith('ERWH')]].mean(axis=1)\n",
    "ngwh_mean = df[df.columns[df.columns.str.startswith('NGWH')]].mean(axis=1)\n",
    "hpwh_mean = df[df.columns[df.columns.str.startswith('HPWH')]].mean(axis=1)"
   ]
  },
  {
   "cell_type": "code",
   "execution_count": 9,
   "id": "71f19cc5-4f0f-45e0-a779-7b4c8500248d",
   "metadata": {},
   "outputs": [],
   "source": [
    "erwh_droplist = ['20210501', '20210502', '20210519', '20210520', '20210521']\n",
    "hpwh_droplist = ['20230105']"
   ]
  },
  {
   "cell_type": "code",
   "execution_count": 10,
   "id": "73ec26ca-b092-4870-af03-4c99ce9eae50",
   "metadata": {},
   "outputs": [
    {
     "data": {
      "image/png": "[encoded data removed]",
      "text/plain": [
       "<Figure size 1080x216 with 1 Axes>"
      ]
     },
     "metadata": {
      "needs_background": "light"
     },
     "output_type": "display_data"
    }
   ],
   "source": [
    "\n",
    "fig, ax = plt.subplots(figsize=(15, 3))\n",
    "\n",
    "plt.semilogy(erwh_mean.drop(erwh_droplist).rolling('7d').mean()\n",
    "         / ngwh_mean.drop(erwh_droplist).rolling('7d').mean(),\n",
    "             c='deeppink', base=2, alpha=1, label='Electric Resistance')\n",
    "plt.axhline(1, linestyle='--', c='orange', label='Natural Gas')\n",
    "plt.semilogy(hpwh_mean.drop(hpwh_droplist).rolling('7d').mean() \n",
    "         / ngwh_mean.drop(hpwh_droplist).rolling('7d').mean(),\n",
    "             c='darkturquoise', base=2, alpha=1, label='Heat Pump')\n",
    "\n",
    "ax.set_xlim(pd.Timestamp('2021-03-01'), pd.Timestamp('2023-02-28'))\n",
    "ax.grid(which='both', zorder=-5)\n",
    "plt.title('Average relative emissions compared to natural gas', size=14)\n",
    "plt.legend(fontsize=14)\n",
    "plt.ylabel('Emissions / Natural Gas Emissions')\n",
    "plt.savefig('../img/relative_emissions.png', dpi=200, bbox_inches='tight')"
   ]
  },
  {
   "cell_type": "code",
   "execution_count": 11,
   "id": "1e2805b1-178e-4ea1-8dec-eb3d5396230b",
   "metadata": {},
   "outputs": [
    {
     "data": {
      "text/plain": [
       "2.8160530367694334"
      ]
     },
     "execution_count": 11,
     "metadata": {},
     "output_type": "execute_result"
    }
   ],
   "source": [
    "erwh_mean.mean()"
   ]
  },
  {
   "cell_type": "code",
   "execution_count": 12,
   "id": "0d588803-a6c3-408e-a362-13358cfc1115",
   "metadata": {},
   "outputs": [
    {
     "data": {
      "text/plain": [
       "1.3316922271077174"
      ]
     },
     "execution_count": 12,
     "metadata": {},
     "output_type": "execute_result"
    }
   ],
   "source": [
    "ngwh_mean.mean()"
   ]
  },
  {
   "cell_type": "code",
   "execution_count": 13,
   "id": "f6dff3bd-f2fe-410a-915f-4b222a946ccf",
   "metadata": {},
   "outputs": [
    {
     "data": {
      "text/plain": [
       "0.7173287449972812"
      ]
     },
     "execution_count": 13,
     "metadata": {},
     "output_type": "execute_result"
    }
   ],
   "source": [
    "hpwh_mean.mean()"
   ]
  },
  {
   "cell_type": "code",
   "execution_count": 14,
   "id": "461c059e-cbc9-4867-ae58-74aa9c470976",
   "metadata": {},
   "outputs": [
    {
     "data": {
      "text/plain": [
       "1.1610506102221545"
      ]
     },
     "execution_count": 14,
     "metadata": {},
     "output_type": "execute_result"
    }
   ],
   "source": [
    "hpwh_mean.loc[hpwh_mean.index.month.isin([12, 1, 2])].mean()"
   ]
  },
  {
   "cell_type": "code",
   "execution_count": 15,
   "id": "6e4f9c44-2068-4ce0-98f7-81978534e088",
   "metadata": {},
   "outputs": [
    {
     "data": {
      "text/plain": [
       "0.4192478239884695"
      ]
     },
     "execution_count": 15,
     "metadata": {},
     "output_type": "execute_result"
    }
   ],
   "source": [
    "hpwh_mean.loc[hpwh_mean.index.month.isin([6, 7, 8])].mean()"
   ]
  },
  {
   "cell_type": "code",
   "execution_count": 16,
   "id": "84f713a6-0ec7-42ea-baf4-71f9b4c003c0",
   "metadata": {},
   "outputs": [
    {
     "data": {
      "text/plain": [
       "0.871861070139174"
      ]
     },
     "execution_count": 16,
     "metadata": {},
     "output_type": "execute_result"
    }
   ],
   "source": [
    "hpwh_mean.loc[hpwh_mean.index.month.isin([12, 1, 2])].mean() / ngwh_mean.mean()"
   ]
  },
  {
   "cell_type": "code",
   "execution_count": 17,
   "id": "013f2aed-2502-45f1-a687-bedb8805e52b",
   "metadata": {},
   "outputs": [
    {
     "data": {
      "text/plain": [
       "0.3148233619257714"
      ]
     },
     "execution_count": 17,
     "metadata": {},
     "output_type": "execute_result"
    }
   ],
   "source": [
    "hpwh_mean.loc[hpwh_mean.index.month.isin([6, 7, 8])].mean() / ngwh_mean.mean()"
   ]
  },
  {
   "cell_type": "code",
   "execution_count": 18,
   "id": "c0439b71-c5b1-4753-a124-099930dcb706",
   "metadata": {},
   "outputs": [
    {
     "data": {
      "text/plain": [
       "3.9257496042210143"
      ]
     },
     "execution_count": 18,
     "metadata": {},
     "output_type": "execute_result"
    }
   ],
   "source": [
    "erwh_mean.mean() / hpwh_mean.mean()"
   ]
  },
  {
   "cell_type": "code",
   "execution_count": 19,
   "id": "53c81902-f747-49f7-a352-79eb140389f7",
   "metadata": {},
   "outputs": [
    {
     "data": {
      "text/plain": [
       "1.8564601466134816"
      ]
     },
     "execution_count": 19,
     "metadata": {},
     "output_type": "execute_result"
    }
   ],
   "source": [
    "ngwh_mean.mean() / hpwh_mean.mean()"
   ]
  },
  {
   "cell_type": "code",
   "execution_count": 20,
   "id": "3c1322be-5a6f-4a53-9159-71e03ede3604",
   "metadata": {},
   "outputs": [],
   "source": [
    "# Comparison of ERWH and HPWH"
   ]
  },
  {
   "cell_type": "code",
   "execution_count": 21,
   "id": "7d8231f2-95f4-4171-8fe3-66fd96756fdc",
   "metadata": {},
   "outputs": [
    {
     "data": {
      "text/plain": [
       "3.9456496743340157"
      ]
     },
     "execution_count": 21,
     "metadata": {},
     "output_type": "execute_result"
    }
   ],
   "source": [
    "site_a['ERWH'].mean() / site_a['HPWH'].mean()"
   ]
  },
  {
   "cell_type": "code",
   "execution_count": 22,
   "id": "ed192bfb-9a95-42ef-9a37-08639ec3b22c",
   "metadata": {},
   "outputs": [
    {
     "data": {
      "text/plain": [
       "3.8159825847510485"
      ]
     },
     "execution_count": 22,
     "metadata": {},
     "output_type": "execute_result"
    }
   ],
   "source": [
    "site_d['ERWH'].mean() / site_d['HPWH'].mean()"
   ]
  },
  {
   "cell_type": "code",
   "execution_count": 23,
   "id": "bd47b3a2-53f8-4c14-94b2-7ce2df09e829",
   "metadata": {},
   "outputs": [
    {
     "data": {
      "text/plain": [
       "4.131836826270983"
      ]
     },
     "execution_count": 23,
     "metadata": {},
     "output_type": "execute_result"
    }
   ],
   "source": [
    "site_c['ERWH'].mean() / site_c['HPWH'].mean()"
   ]
  },
  {
   "cell_type": "code",
   "execution_count": 24,
   "id": "f558f2ae-77f9-4d67-90c9-b0e7f5746dc8",
   "metadata": {},
   "outputs": [
    {
     "data": {
      "text/plain": [
       "3.8531561933892227"
      ]
     },
     "execution_count": 24,
     "metadata": {},
     "output_type": "execute_result"
    }
   ],
   "source": [
    "site_b['ERWH'].mean() / site_b['HPWH'].mean()"
   ]
  },
  {
   "cell_type": "code",
   "execution_count": 25,
   "id": "a5aa8e8c-7f76-4fe2-8dfd-8c1dbbb65302",
   "metadata": {},
   "outputs": [],
   "source": [
    "# Comparison of NGWH and HPWH"
   ]
  },
  {
   "cell_type": "code",
   "execution_count": 26,
   "id": "75c8865b-f477-4845-a131-f978d09e4097",
   "metadata": {},
   "outputs": [
    {
     "data": {
      "text/plain": [
       "2.029854310677693"
      ]
     },
     "execution_count": 26,
     "metadata": {},
     "output_type": "execute_result"
    }
   ],
   "source": [
    "site_a['NGWH'].mean() / site_a['HPWH'].mean()"
   ]
  },
  {
   "cell_type": "code",
   "execution_count": 27,
   "id": "3b3b8802-c815-4c85-bb0b-8733686cb8a9",
   "metadata": {},
   "outputs": [
    {
     "data": {
      "text/plain": [
       "1.79852318989395"
      ]
     },
     "execution_count": 27,
     "metadata": {},
     "output_type": "execute_result"
    }
   ],
   "source": [
    "site_d['NGWH'].mean() / site_d['HPWH'].mean()"
   ]
  },
  {
   "cell_type": "code",
   "execution_count": 28,
   "id": "75d9b58a-dfa9-412e-b8b5-f58ad2341c0b",
   "metadata": {},
   "outputs": [
    {
     "data": {
      "text/plain": [
       "1.872690157261602"
      ]
     },
     "execution_count": 28,
     "metadata": {},
     "output_type": "execute_result"
    }
   ],
   "source": [
    "site_c['NGWH'].mean() / site_c['HPWH'].mean()"
   ]
  },
  {
   "cell_type": "code",
   "execution_count": 29,
   "id": "0eea233f-7827-4760-adbe-49d71927ca97",
   "metadata": {},
   "outputs": [
    {
     "data": {
      "text/plain": [
       "1.8734961277876534"
      ]
     },
     "execution_count": 29,
     "metadata": {},
     "output_type": "execute_result"
    }
   ],
   "source": [
    "site_b['NGWH'].mean() / site_b['HPWH'].mean()"
   ]
  },
  {
   "cell_type": "code",
   "execution_count": 30,
   "id": "f9890999-fa3f-4603-a2c9-1bb992c355ee",
   "metadata": {},
   "outputs": [],
   "source": [
    "# Comparison of ERWH and NGWH"
   ]
  },
  {
   "cell_type": "code",
   "execution_count": 31,
   "id": "346694b9-09f1-4d38-9672-33fe3417f14a",
   "metadata": {},
   "outputs": [
    {
     "data": {
      "text/plain": [
       "1.9438092938880474"
      ]
     },
     "execution_count": 31,
     "metadata": {},
     "output_type": "execute_result"
    }
   ],
   "source": [
    "site_a['ERWH'].mean() / site_a['NGWH'].mean()"
   ]
  },
  {
   "cell_type": "code",
   "execution_count": 32,
   "id": "493fbf6e-71bc-4c74-a289-05339eb1558a",
   "metadata": {},
   "outputs": [
    {
     "data": {
      "text/plain": [
       "2.1217310992670924"
      ]
     },
     "execution_count": 32,
     "metadata": {},
     "output_type": "execute_result"
    }
   ],
   "source": [
    "site_d['ERWH'].mean() / site_d['NGWH'].mean()"
   ]
  },
  {
   "cell_type": "code",
   "execution_count": 33,
   "id": "3cbf6682-ad76-4c30-9e85-067d9ff286f5",
   "metadata": {},
   "outputs": [
    {
     "data": {
      "text/plain": [
       "2.2063643631858927"
      ]
     },
     "execution_count": 33,
     "metadata": {},
     "output_type": "execute_result"
    }
   ],
   "source": [
    "site_c['ERWH'].mean() / site_c['NGWH'].mean()"
   ]
  },
  {
   "cell_type": "code",
   "execution_count": 34,
   "id": "6dc605e6-8e78-40a7-86a8-f7fc1aae045a",
   "metadata": {},
   "outputs": [
    {
     "data": {
      "text/plain": [
       "2.0566662168334884"
      ]
     },
     "execution_count": 34,
     "metadata": {},
     "output_type": "execute_result"
    }
   ],
   "source": [
    "site_b['ERWH'].mean() / site_b['NGWH'].mean()"
   ]
  },
  {
   "cell_type": "code",
   "execution_count": 35,
   "id": "ccc73977-c4bd-4627-9670-e3a46dae78dd",
   "metadata": {},
   "outputs": [
    {
     "data": {
      "text/plain": [
       "0.9438092938880474"
      ]
     },
     "execution_count": 35,
     "metadata": {},
     "output_type": "execute_result"
    }
   ],
   "source": [
    "(site_a['ERWH'].mean() -  site_a['NGWH'].mean()) / site_a['NGWH'].mean()"
   ]
  },
  {
   "cell_type": "code",
   "execution_count": 36,
   "id": "424a8572-5a35-47cd-be3e-e9dfb88f6126",
   "metadata": {},
   "outputs": [
    {
     "data": {
      "text/plain": [
       "1.2063643631858927"
      ]
     },
     "execution_count": 36,
     "metadata": {},
     "output_type": "execute_result"
    }
   ],
   "source": [
    "(site_c['ERWH'].mean() -  site_c['NGWH'].mean()) / site_c['NGWH'].mean()"
   ]
  },
  {
   "cell_type": "code",
   "execution_count": null,
   "id": "7ee050d0-6780-4944-ab23-cca3903e7b18",
   "metadata": {},
   "outputs": [],
   "source": []
  }
 ],
 "metadata": {
  "kernelspec": {
   "display_name": "Python 3 (ipykernel)",
   "language": "python",
   "name": "python3"
  },
  "language_info": {
   "codemirror_mode": {
    "name": "ipython",
    "version": 3
   },
   "file_extension": ".py",
   "mimetype": "text/x-python",
   "name": "python",
   "nbconvert_exporter": "python",
   "pygments_lexer": "ipython3",
   "version": "3.9.11"
  }
 },
 "nbformat": 4,
 "nbformat_minor": 5
}
