{
 "cells": [
  {
   "cell_type": "code",
   "execution_count": 1,
   "id": "9c22bb6c",
   "metadata": {},
   "outputs": [],
   "source": [
    "import pandas as pd\n",
    "import numpy as np\n",
    "\n",
    "# Constants:\n",
    "gpm_to_kgs = 0.0630901964 \n",
    "users = 351\n",
    "ns_per_s = 1e9\n",
    "gpm_m3s = 0.0000630901964"
   ]
  },
  {
   "cell_type": "code",
   "execution_count": 2,
   "id": "f79f7453",
   "metadata": {},
   "outputs": [],
   "source": [
    "# Importing flow values : \n",
    "\n",
    "SitesData = pd.read_csv(\"../data/site_a.csv\")\n",
    "SitesData['TimeStamp'] = pd.to_datetime(SitesData['TimeStamp'])\n",
    "assert not SitesData.duplicated(subset=['TimeStamp']).any()\n",
    "SitesData.set_index('TimeStamp', inplace=True)\n",
    "SitesData = SitesData.tz_localize('UTC')\n",
    "SitesData.sort_index(inplace=True)\n",
    "SitesData = SitesData.resample('30s').mean()\n",
    "flow_gpm = SitesData['FT1_GPM']\n",
    "flow_is_nan = flow_gpm.isnull()\n",
    "flow_gpm.fillna(0., inplace=True)\n",
    "flow_gpm[flow_gpm < 0] = 0.\n",
    "flow_m3s = flow_gpm * gpm_m3s\n",
    "flow_per_user_m3s = flow_m3s / users\n",
    "flow_per_user_m3s_rolling_mean = flow_per_user_m3s.rolling(600, min_periods=1).mean()\n",
    "flow_time_s = flow_per_user_m3s_rolling_mean.index.astype(int).values / ns_per_s\n",
    "flow_values_m3s = flow_per_user_m3s_rolling_mean.resample('1d').sum()\n",
    "\n",
    "cwt_celsius = 5 / 9 * (SitesData['CWT'] - 32)\n",
    "cwt_celsius[cwt_celsius < 0.] = 0.\n",
    "cwt_values_celsius = cwt_celsius.resample('1d').median()\n",
    "cwt_values_celsius = cwt_values_celsius.fillna(cwt_celsius.mean())"
   ]
  },
  {
   "cell_type": "code",
   "execution_count": 3,
   "id": "49bb0d7c",
   "metadata": {},
   "outputs": [],
   "source": [
    "# Importing temperature values\n",
    "\n",
    "Palestine_TX = pd.read_csv(\"../data/IAH.csv\")\n",
    "Palestine_TX['tmpc'] = Palestine_TX['tmpc'].replace('M', np.nan).replace('T', np.nan).astype(float)\n",
    "Palestine_TX['timestamp_utc'] = pd.to_datetime(Palestine_TX['valid'])\n",
    "assert not Palestine_TX.duplicated(subset=['timestamp_utc']).any()\n",
    "Palestine_TX = Palestine_TX.set_index('timestamp_utc').tz_localize('UTC')\n",
    "ambient_temp_c = Palestine_TX['tmpc']"
   ]
  },
  {
   "cell_type": "code",
   "execution_count": 4,
   "id": "cd12b2cf",
   "metadata": {},
   "outputs": [],
   "source": [
    "## Matching time stamps of the two datasets: \n",
    "air_temp = ambient_temp_c[(ambient_temp_c.index >= flow_per_user_m3s_rolling_mean.index.min()) \n",
    "                    & ((ambient_temp_c.index <= flow_per_user_m3s_rolling_mean.index.max()))]"
   ]
  },
  {
   "cell_type": "code",
   "execution_count": 5,
   "id": "4bb1504c",
   "metadata": {},
   "outputs": [],
   "source": [
    "air_temp[air_temp < -10] = np.nan  #  replace values below -10 such as -999 to NaN\n",
    "mean = air_temp.mean()\n",
    "air_temp.fillna(mean, inplace=True)  # fill NaN values with the mean\n",
    "air_temp[air_temp > 50] = np.nan     # replace values above 50 to NaN, erroneous and unreasonable values.\n",
    "air_temp.fillna(mean, inplace=True)"
   ]
  },
  {
   "cell_type": "code",
   "execution_count": 6,
   "id": "6a7662bb",
   "metadata": {},
   "outputs": [],
   "source": [
    "# Run this line in the case of simulating daily outputs. In the case of 5min simulations, change air_temp and flow to 5min\n",
    "air_temp = air_temp.resample('1d').mean().fillna(air_temp.mean())"
   ]
  },
  {
   "cell_type": "code",
   "execution_count": 7,
   "id": "4ade5969",
   "metadata": {},
   "outputs": [],
   "source": [
    "# Q - heat demand (W)\n",
    "\n",
    "c_p = 4184    #J/kg K\n",
    "delta_t = (60 - cwt_values_celsius)  # K \n",
    "density = 1000 #kg/m3\n",
    "\n",
    "Q_array = flow_values_m3s*c_p*delta_t*density\n",
    "Q_array[Q_array == 0] = Q_array.mean()\n",
    "Q_array = pd.DataFrame(Q_array)\n",
    "Q_array = Q_array.values"
   ]
  },
  {
   "cell_type": "code",
   "execution_count": 8,
   "id": "89d4a0b8-586a-4a82-abd0-ad0b17df63e3",
   "metadata": {},
   "outputs": [
    {
     "data": {
      "text/plain": [
       "342457.3445286036"
      ]
     },
     "execution_count": 8,
     "metadata": {},
     "output_type": "execute_result"
    }
   ],
   "source": [
    "Q_array.mean()"
   ]
  },
  {
   "cell_type": "code",
   "execution_count": 9,
   "id": "c44a45ea",
   "metadata": {},
   "outputs": [
    {
     "name": "stdout",
     "output_type": "stream",
     "text": [
      "iter\t| residual | massflow | pressure | enthalpy | fluid\n",
      "--------+----------+----------+----------+----------+---------\n",
      "1\t| 3.94e+06 | 1.41e+02 | 2.77e+06 | 5.04e+05 | 0.00e+00\n",
      "2\t| 4.89e+06 | 9.33e+01 | 7.64e+05 | 2.74e+05 | 0.00e+00\n",
      "3\t| 5.32e+05 | 7.05e+00 | 7.23e+04 | 3.46e+03 | 0.00e+00\n",
      "4\t| 8.15e+03 | 1.24e-01 | 5.02e+02 | 2.40e+01 | 0.00e+00\n",
      "5\t| 6.04e-01 | 8.28e-06 | 1.27e-01 | 3.18e-03 | 0.00e+00\n",
      "6\t| 4.26e-06 | 6.54e-08 | 8.73e-03 | 4.37e-04 | 0.00e+00\n",
      "--------+----------+----------+----------+----------+---------\n",
      "Total iterations: 6, Calculation time: 0.1 s, Iterations per second: 116.7\n"
     ]
    }
   ],
   "source": [
    "from tespy.networks import Network\n",
    "from tespy.components import (\n",
    "    CycleCloser, Compressor, Valve, HeatExchangerSimple\n",
    ")\n",
    "from tespy.connections import Connection\n",
    "\n",
    "\n",
    "# create a network object with R134a as fluid\n",
    "fluid_list = ['R134a']\n",
    "my_plant = Network(fluids=fluid_list)\n",
    "my_plant.set_attr(T_unit='C', p_unit='bar', h_unit='J / kg')\n",
    "\n",
    "# Defining components:\n",
    "cc = CycleCloser('cycle closer')\n",
    "# heat sink\n",
    "co = HeatExchangerSimple('condenser')\n",
    "# heat source\n",
    "ev = HeatExchangerSimple('evaporator')\n",
    "va = Valve('expansion valve')\n",
    "cp = Compressor('compressor')\n",
    "\n",
    "# connections of heat pump\n",
    "c1 = Connection(cc, 'out1', ev, 'in1', label='1')\n",
    "c2 = Connection(ev, 'out1', cp, 'in1', label='2')\n",
    "c3 = Connection(cp, 'out1', co, 'in1', label='3')\n",
    "c4 = Connection(co, 'out1', va, 'in1', label='4')\n",
    "c0 = Connection(va, 'out1', cc, 'in1', label='0')\n",
    "\n",
    "# Add all connections to your network\n",
    "my_plant.add_conns(c1, c2, c3, c4, c0)\n",
    "\n",
    "# Set attributes for components and connections: \n",
    "co.set_attr(pr=0.98, Q=-4e6)\n",
    "ev.set_attr(pr = 0.98)\n",
    "cp.set_attr(eta_s=0.75)\n",
    "c2.set_attr(T=20, x=1, fluid={'R134a': 1})\n",
    "c4.set_attr(T=60, x=0)\n",
    "\n",
    "# Solve the model created above\n",
    "my_plant.solve(mode='design')\n"
   ]
  },
  {
   "cell_type": "markdown",
   "id": "b2f225d1",
   "metadata": {},
   "source": [
    "The evaporation temperature is the temperature at which the refrigerant in the heat pump absorbs heat from the source and evaporates."
   ]
  },
  {
   "cell_type": "code",
   "execution_count": 10,
   "id": "beda1616",
   "metadata": {},
   "outputs": [
    {
     "name": "stderr",
     "output_type": "stream",
     "text": [
      "WARNING:root:Invalid value for zeta: zeta = 3.501412108021061e+42 above maximum value (1000000000000000.0) at component expansion valve.\n",
      "WARNING:root:Invalid value for zeta: zeta = 1.1815643542106266e+41 above maximum value (1000000000000000.0) at component condenser.\n",
      "WARNING:root:Invalid value for zeta: zeta = 8.79110040320429e+39 above maximum value (1000000000000000.0) at component evaporator.\n",
      "WARNING:root:Invalid value for zeta: zeta = 3.278516165961512e+42 above maximum value (1000000000000000.0) at component expansion valve.\n",
      "WARNING:root:Invalid value for zeta: zeta = 1.18965181920642e+41 above maximum value (1000000000000000.0) at component condenser.\n",
      "WARNING:root:Invalid value for zeta: zeta = 7.458846383142363e+39 above maximum value (1000000000000000.0) at component evaporator.\n",
      "WARNING:root:Invalid value for zeta: zeta = 3.4385124534142184e+42 above maximum value (1000000000000000.0) at component expansion valve.\n",
      "WARNING:root:Invalid value for zeta: zeta = 1.1838044142619649e+41 above maximum value (1000000000000000.0) at component condenser.\n",
      "WARNING:root:Invalid value for zeta: zeta = 8.396992285468965e+39 above maximum value (1000000000000000.0) at component evaporator.\n",
      "WARNING:root:Invalid value for zeta: zeta = 3.579748540885131e+42 above maximum value (1000000000000000.0) at component expansion valve.\n",
      "WARNING:root:Invalid value for zeta: zeta = 1.1788146946033477e+41 above maximum value (1000000000000000.0) at component condenser.\n",
      "WARNING:root:Invalid value for zeta: zeta = 9.303609936839805e+39 above maximum value (1000000000000000.0) at component evaporator.\n",
      "WARNING:root:Invalid value for zeta: zeta = 2.2605871143920476e+42 above maximum value (1000000000000000.0) at component expansion valve.\n",
      "WARNING:root:Invalid value for zeta: zeta = 1.235232255372518e+41 above maximum value (1000000000000000.0) at component condenser.\n",
      "WARNING:root:Invalid value for zeta: zeta = 3.1493454531828326e+39 above maximum value (1000000000000000.0) at component evaporator.\n",
      "WARNING:root:Invalid value for zeta: zeta = 3.518636733009961e+42 above maximum value (1000000000000000.0) at component expansion valve.\n",
      "WARNING:root:Invalid value for zeta: zeta = 1.1809560939262918e+41 above maximum value (1000000000000000.0) at component condenser.\n",
      "WARNING:root:Invalid value for zeta: zeta = 8.90168070214927e+39 above maximum value (1000000000000000.0) at component evaporator.\n",
      "WARNING:root:Invalid value for zeta: zeta = 2.4857046832246226e+41 above maximum value (1000000000000000.0) at component expansion valve.\n",
      "WARNING:root:Invalid value for zeta: zeta = 9.090494719640923e+39 above maximum value (1000000000000000.0) at component condenser.\n",
      "WARNING:root:Invalid value for zeta: zeta = 5.597157799027521e+38 above maximum value (1000000000000000.0) at component evaporator.\n",
      "WARNING:root:Invalid value for zeta: zeta = 2.568755297563824e+41 above maximum value (1000000000000000.0) at component expansion valve.\n",
      "WARNING:root:Invalid value for zeta: zeta = 9.059774925560268e+39 above maximum value (1000000000000000.0) at component condenser.\n",
      "WARNING:root:Invalid value for zeta: zeta = 6.070191768565322e+38 above maximum value (1000000000000000.0) at component evaporator.\n",
      "WARNING:root:Invalid value for zeta: zeta = 2.6899929929621405e+41 above maximum value (1000000000000000.0) at component expansion valve.\n",
      "WARNING:root:Invalid value for zeta: zeta = 9.016335747808576e+39 above maximum value (1000000000000000.0) at component condenser.\n",
      "WARNING:root:Invalid value for zeta: zeta = 6.818107686687563e+38 above maximum value (1000000000000000.0) at component evaporator.\n",
      "WARNING:root:Invalid value for zeta: zeta = 2.7101183986749462e+41 above maximum value (1000000000000000.0) at component expansion valve.\n",
      "WARNING:root:Invalid value for zeta: zeta = 9.009265838336738e+39 above maximum value (1000000000000000.0) at component condenser.\n",
      "WARNING:root:Invalid value for zeta: zeta = 6.949394871080022e+38 above maximum value (1000000000000000.0) at component evaporator.\n",
      "WARNING:root:Invalid value for zeta: zeta = 4.7627108189574775e+42 above maximum value (1000000000000000.0) at component expansion valve.\n",
      "WARNING:root:Invalid value for zeta: zeta = 1.6461512719564008e+41 above maximum value (1000000000000000.0) at component condenser.\n",
      "WARNING:root:Invalid value for zeta: zeta = 1.15682188066795e+40 above maximum value (1000000000000000.0) at component evaporator.\n"
     ]
    }
   ],
   "source": [
    "import matplotlib.pyplot as plt\n",
    "from contextlib import contextmanager\n",
    "import sys, os\n",
    "\n",
    "# Iterating through air temperature and demand values. \n",
    "COP = np.zeros([len(Q_array),1])\n",
    "for i in range(0,len(Q_array)):\n",
    "    co.set_attr(pr=0.98, Q=-Q_array[i])\n",
    "    c2.set_attr(T=air_temp[i]- 8)\n",
    "    @contextmanager\n",
    "    def suppress_stdout():\n",
    "        with open(os.devnull, \"w\") as devnull:\n",
    "            old_stdout = sys.stdout\n",
    "            sys.stdout = devnull\n",
    "            try:  \n",
    "                yield\n",
    "            finally:\n",
    "                sys.stdout = old_stdout\n",
    "    with suppress_stdout():\n",
    "        my_plant.solve('design')\n",
    "        COP[i] = [abs(co.Q.val) / cp.P.val]"
   ]
  },
  {
   "cell_type": "code",
   "execution_count": 11,
   "id": "71c4fe1a",
   "metadata": {},
   "outputs": [],
   "source": [
    "COP = pd.DataFrame(COP)\n",
    "COP.columns = ['COP']\n",
    "COP = COP.iloc[0:(len(Q_array))]"
   ]
  },
  {
   "cell_type": "code",
   "execution_count": 12,
   "id": "913e1043",
   "metadata": {},
   "outputs": [],
   "source": [
    "COP.index = air_temp.index"
   ]
  },
  {
   "cell_type": "code",
   "execution_count": 13,
   "id": "5e666837-a420-4fb1-840f-478bc2dcf0cf",
   "metadata": {},
   "outputs": [
    {
     "data": {
      "text/plain": [
       "COP    4.52907\n",
       "dtype: float64"
      ]
     },
     "execution_count": 13,
     "metadata": {},
     "output_type": "execute_result"
    }
   ],
   "source": [
    "COP.mean()"
   ]
  },
  {
   "cell_type": "code",
   "execution_count": 14,
   "id": "bd8e1b8b",
   "metadata": {},
   "outputs": [
    {
     "data": {
      "image/png": "[encoded data removed]",
      "text/plain": [
       "<Figure size 864x288 with 1 Axes>"
      ]
     },
     "metadata": {
      "needs_background": "light"
     },
     "output_type": "display_data"
    }
   ],
   "source": [
    "fig, ax = plt.subplots(figsize=(12, 4))\n",
    "COP.plot(ax=ax, c='k', legend=None)\n",
    "plt.title('HPWH COP for Site A', size=14)\n",
    "plt.ylabel('COP [-]', size=14)\n",
    "ax.set_xlim('2021-03-01', '2023-02-28')\n",
    "ax.set_xlabel('')\n",
    "plt.tight_layout()\n",
    "plt.savefig('../img/COP_site_a.png', dpi=200, bbox_inches='tight')"
   ]
  },
  {
   "cell_type": "code",
   "execution_count": 15,
   "id": "e0f9193d",
   "metadata": {},
   "outputs": [],
   "source": [
    "COP.to_csv('../data/site_a_COP_1d.csv')"
   ]
  }
 ],
 "metadata": {
  "kernelspec": {
   "display_name": "Python 3 (ipykernel)",
   "language": "python",
   "name": "python3"
  },
  "language_info": {
   "codemirror_mode": {
    "name": "ipython",
    "version": 3
   },
   "file_extension": ".py",
   "mimetype": "text/x-python",
   "name": "python",
   "nbconvert_exporter": "python",
   "pygments_lexer": "ipython3",
   "version": "3.9.11"
  }
 },
 "nbformat": 4,
 "nbformat_minor": 5
}
