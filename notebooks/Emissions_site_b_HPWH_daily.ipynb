{
 "cells": [
  {
   "cell_type": "code",
   "execution_count": 1,
   "id": "1d1935ad",
   "metadata": {},
   "outputs": [],
   "source": [
    "import pandas as pd\n",
    "import numpy as np\n"
   ]
  },
  {
   "cell_type": "code",
   "execution_count": 2,
   "id": "f2dc08ce",
   "metadata": {},
   "outputs": [],
   "source": [
    "# Constants:\n",
    "gpm_to_kgs = 0.0630901964 \n",
    "users = 373\n",
    "ns_per_s = 1e9\n",
    "gpm_m3s = 0.0000630901964\n",
    "kg_per_lb = 0.453\n",
    "s_per_interval = 30\n",
    "s_per_hr = 3600\n",
    "kwh_per_mwh = 1000"
   ]
  },
  {
   "cell_type": "code",
   "execution_count": 3,
   "id": "59bcceb7",
   "metadata": {},
   "outputs": [],
   "source": [
    "# Importing flow values : \n",
    "\n",
    "SitesData = pd.read_csv(\"../data/site_b.csv\")\n",
    "SitesData['TimeStamp'] = pd.to_datetime(SitesData['TimeStamp'])\n",
    "assert not SitesData.duplicated(subset=['TimeStamp']).any()\n",
    "SitesData.set_index('TimeStamp', inplace=True)\n",
    "SitesData = SitesData.tz_localize('UTC')\n",
    "SitesData.sort_index(inplace=True)\n",
    "SitesData = SitesData.resample('30s').mean()\n",
    "flow_gpm = SitesData['FT1_GPM']\n",
    "flow_is_nan = flow_gpm.isnull()\n",
    "flow_gpm.fillna(0., inplace=True)\n",
    "flow_gpm[flow_gpm < 0] = 0.\n",
    "flow_m3s = flow_gpm * gpm_m3s\n",
    "flow_per_user_m3s = flow_m3s / users\n",
    "flow_per_user_m3s_rolling_mean = flow_per_user_m3s.rolling(600, min_periods=1).mean()\n",
    "flow_time_s = flow_per_user_m3s_rolling_mean.index.astype(int).values / ns_per_s\n",
    "\n",
    "cwt_celsius = 5 / 9 * (SitesData['CWT'] - 32)\n",
    "cwt_celsius[cwt_celsius < 0.] = 0.\n",
    "cwt_values_celsius = cwt_celsius.resample('1d').median().resample('5min').mean().interpolate()\n",
    "cwt_values_celsius = cwt_values_celsius.fillna(cwt_celsius.mean())"
   ]
  },
  {
   "cell_type": "code",
   "execution_count": 4,
   "id": "67d7e56b",
   "metadata": {},
   "outputs": [],
   "source": [
    "# Aggregating flow values to match COP 5 min intervals:\n",
    "flow_values_m3s = flow_per_user_m3s_rolling_mean.resample('5min').sum()"
   ]
  },
  {
   "cell_type": "code",
   "execution_count": 5,
   "id": "98b056f4",
   "metadata": {},
   "outputs": [],
   "source": [
    "# Calculate heat demand: \n",
    "c_p = 4184    #J/kg K\n",
    "delta_t = (60 - cwt_values_celsius)  # K \n",
    "density = 1000 #kg/m3\n",
    "\n",
    "Q_array = flow_values_m3s*c_p*delta_t*density\n",
    "Q_array[Q_array == 0] = Q_array.mean()\n",
    "Q_array = Q_array[0:len(Q_array)-1]"
   ]
  },
  {
   "cell_type": "code",
   "execution_count": 6,
   "id": "7dcd2618",
   "metadata": {},
   "outputs": [],
   "source": [
    "# Calculate Power using heat demand and COP values obtained from TesPy:\n",
    "COP_site = pd.read_csv(\"../data/site_b_COP_1d.csv\")\n",
    "COP_site['timestamp_utc'] = pd.to_datetime(COP_site['timestamp_utc'])\n",
    "COP_site.set_index('timestamp_utc',inplace = True)\n",
    "COP_site = COP_site.resample('5min').mean().interpolate()\n",
    "COP_site = COP_site.reindex(Q_array.index).interpolate()"
   ]
  },
  {
   "cell_type": "code",
   "execution_count": 7,
   "id": "e9e08e62-d89d-4ac4-ab88-31570aa50fdc",
   "metadata": {},
   "outputs": [],
   "source": [
    "Power_site =  Q_array.values.squeeze()/COP_site['COP']\n",
    "site_in_kwh = (Power_site * s_per_interval/s_per_hr)/1000"
   ]
  },
  {
   "cell_type": "code",
   "execution_count": 8,
   "id": "d3f129f0",
   "metadata": {},
   "outputs": [],
   "source": [
    "# =============================================================================\n",
    "# Import and arrange emissions data for the required period\n",
    "# =============================================================================\n",
    "Watttime = pd.read_csv(\"../data/ERCOT_EASTTX-MOER_2021-2023.csv\")\n",
    "\n",
    "# Convert timestamp strings to datetimes\n",
    "Watttime['timestamp_local'] = pd.to_datetime(Watttime['timestamp_local'])\n",
    "Watttime['timestamp_utc'] = pd.to_datetime(Watttime['timestamp_utc'])\n",
    "assert not Watttime.duplicated(subset=['timestamp_utc']).any()\n",
    "Watttime.set_index('timestamp_utc', inplace=True)\n",
    "Watttime.sort_index(inplace=True)\n",
    "\n"
   ]
  },
  {
   "cell_type": "code",
   "execution_count": 9,
   "id": "0662194b-03c3-43d8-a0a3-1f4960ab4ef0",
   "metadata": {},
   "outputs": [],
   "source": [
    "Watttime = Watttime.resample('5min').mean().interpolate()"
   ]
  },
  {
   "cell_type": "code",
   "execution_count": 10,
   "id": "2c4bb0fe",
   "metadata": {},
   "outputs": [],
   "source": [
    "# Get Watttime data corresponding to SitesData time period\n",
    "Watttime = Watttime[(Watttime.index >= site_in_kwh.index.min()) \n",
    "                    & ((Watttime.index <= site_in_kwh.index.max()))]\n",
    "\n",
    "# Note that this is in pounds\n",
    "emissions_lbs_per_MWh = Watttime['value']\n",
    "emissions_kg_per_kWh = emissions_lbs_per_MWh * kg_per_lb / kwh_per_mwh\n",
    "kwh_and_emissions = (pd.concat([site_in_kwh, emissions_kg_per_kWh], axis=1).dropna()\n",
    "                     .rename(columns={'COP' : 'kwh', 'value' : 'kg / kwh'}))\n",
    "daily_emissions_kg = (kwh_and_emissions['kwh'] * kwh_and_emissions['kg / kwh']).resample('d').sum()"
   ]
  },
  {
   "cell_type": "code",
   "execution_count": 11,
   "id": "3f47a2ce",
   "metadata": {},
   "outputs": [],
   "source": [
    "daily_emissions_kg.to_csv('../data/site_b_HPWH_emissions_daily.csv')"
   ]
  },
  {
   "cell_type": "code",
   "execution_count": null,
   "id": "dda34008-b3a2-4a75-a819-5ec7222fe42a",
   "metadata": {},
   "outputs": [],
   "source": []
  }
 ],
 "metadata": {
  "kernelspec": {
   "display_name": "Python 3 (ipykernel)",
   "language": "python",
   "name": "python3"
  },
  "language_info": {
   "codemirror_mode": {
    "name": "ipython",
    "version": 3
   },
   "file_extension": ".py",
   "mimetype": "text/x-python",
   "name": "python",
   "nbconvert_exporter": "python",
   "pygments_lexer": "ipython3",
   "version": "3.9.11"
  }
 },
 "nbformat": 4,
 "nbformat_minor": 5
}
