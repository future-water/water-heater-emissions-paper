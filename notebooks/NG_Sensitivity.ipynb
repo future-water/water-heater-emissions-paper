{
 "cells": [
  {
   "cell_type": "code",
   "execution_count": 1,
   "id": "1bdeebcb",
   "metadata": {},
   "outputs": [],
   "source": [
    "import pandas as pd\n",
    "import numpy as np\n",
    "import matplotlib.pyplot as plt\n",
    "import scipy.integrate\n",
    "from scipy.interpolate import interp1d\n",
    "import scipy.stats\n",
    "import statistics"
   ]
  },
  {
   "cell_type": "code",
   "execution_count": 2,
   "id": "60103314",
   "metadata": {},
   "outputs": [],
   "source": [
    "# =============================================================================\n",
    "# Constants and conversion factors : \n",
    "# =============================================================================\n",
    "\n",
    "users = 351\n",
    "cms_per_gpm = 6.309e-5\n",
    "ns_per_s = 1e9\n",
    "kg_per_lb = 0.453\n",
    "s_per_interval = 30\n",
    "s_per_hr = 3600\n",
    "kwh_per_mwh = 1000\n",
    "j_per_kj = 1000\n",
    "ccf_to_therms = 1.037\n",
    "emission_per_therm = 5.3\n",
    "therm_per_j = 9.48043e-9\n",
    "c_p = 4184                    # Units: J / kg / K\n",
    "rho = 1000."
   ]
  },
  {
   "cell_type": "code",
   "execution_count": 3,
   "id": "8ef95e66",
   "metadata": {},
   "outputs": [],
   "source": [
    "# =============================================================================\n",
    "# Import and read file:\n",
    "# =============================================================================\n",
    "\n",
    "SitesData = pd.read_csv(\"../data/site_a.csv\")\n",
    "Watttime = pd.read_csv(\"../data/ERCOT_EASTTX-MOER_2021-2023.csv\")\n",
    "\n",
    "# Convert timestamp strings to datetimes\n",
    "SitesData['TimeStamp'] = pd.to_datetime(SitesData['TimeStamp'])\n",
    "Watttime['timestamp_local'] = pd.to_datetime(Watttime['timestamp_local'])\n",
    "Watttime['timestamp_utc'] = pd.to_datetime(Watttime['timestamp_utc'])"
   ]
  },
  {
   "cell_type": "code",
   "execution_count": 4,
   "id": "d345b719",
   "metadata": {},
   "outputs": [],
   "source": [
    "# =============================================================================\n",
    "# Test for duplicate time indices:\n",
    "# =============================================================================\n",
    "\n",
    "assert not SitesData.duplicated(subset=['TimeStamp']).any()\n",
    "assert not Watttime.duplicated(subset=['timestamp_utc']).any()"
   ]
  },
  {
   "cell_type": "code",
   "execution_count": 5,
   "id": "2469fcb6",
   "metadata": {},
   "outputs": [],
   "source": [
    "# =============================================================================\n",
    "# Set time index\n",
    "# =============================================================================\n",
    "\n",
    "# Set indices to time index\n",
    "SitesData.set_index('TimeStamp', inplace=True)\n",
    "Watttime.set_index('timestamp_utc', inplace=True)\n",
    "\n",
    "# Sort time index\n",
    "SitesData.sort_index(inplace=True)\n",
    "Watttime.sort_index(inplace=True)\n",
    "\n",
    "SitesData = SitesData.tz_localize('UTC')\n",
    "\n",
    "# Resample site data to 30s intervals\n",
    "SitesData = SitesData.resample('30s').mean()"
   ]
  },
  {
   "cell_type": "code",
   "execution_count": 6,
   "id": "ca62f835",
   "metadata": {},
   "outputs": [],
   "source": [
    "# =============================================================================\n",
    "# Read Flow and time stamp columns:\n",
    "# =============================================================================\n",
    "\n",
    "flow_gpm = SitesData['FT1_GPM']"
   ]
  },
  {
   "cell_type": "code",
   "execution_count": 7,
   "id": "b8255564",
   "metadata": {},
   "outputs": [],
   "source": [
    "# =============================================================================\n",
    "# Replacing erroneous negative flow values with zero:\n",
    "# =============================================================================\n",
    "\n",
    "flow_is_nan = flow_gpm.isnull()\n",
    "flow_gpm.fillna(0., inplace=True)\n",
    "flow_gpm[flow_gpm < 0] = 0."
   ]
  },
  {
   "cell_type": "code",
   "execution_count": 8,
   "id": "b28c889a-43a3-4335-b80a-ce9e9291460b",
   "metadata": {},
   "outputs": [],
   "source": [
    "standby = np.linspace(0.65, 0.85)\n",
    "T_sets = np.linspace(50, 60)\n",
    "T_colds = np.linspace(10, 30)\n",
    "Units = np.linspace(0.90 * 351 / 0.95, 351 / 0.95)\n",
    "\n",
    "mean = lambda x: sum(x) / len(x)"
   ]
  },
  {
   "cell_type": "code",
   "execution_count": 9,
   "id": "415d18f3",
   "metadata": {},
   "outputs": [],
   "source": [
    "# =============================================================================\n",
    "# convert flow units and smooth:\n",
    "# =============================================================================\n",
    "flow_cms = flow_gpm * cms_per_gpm\n",
    "flow_per_user_cms = flow_cms / users\n",
    "flow_per_user_cms_rolling_mean = flow_per_user_cms.rolling(120, min_periods=1, center=True).mean()\n",
    "flow_time_s = flow_per_user_cms_rolling_mean.index.astype(int).values / ns_per_s\n",
    "flow_values_cms = flow_per_user_cms_rolling_mean.values"
   ]
  },
  {
   "cell_type": "code",
   "execution_count": 10,
   "id": "e479bc4c-1d30-4242-98f1-d179182a5bc7",
   "metadata": {},
   "outputs": [],
   "source": [
    "emissions_by_standby = []\n",
    "for value in standby:\n",
    "    ng_model = ((1 / value) * (c_p * (mean(T_sets) - mean(T_colds)) \n",
    "                              * (flow_cms.replace(0., np.nan) * s_per_interval) \n",
    "                              * rho * therm_per_j)\n",
    "                * emission_per_therm / mean(Units)).resample('1d').sum().replace(0., np.nan)\n",
    "    emissions_by_standby.append(ng_model.mean())"
   ]
  },
  {
   "cell_type": "code",
   "execution_count": 11,
   "id": "97448e8d-8e03-4b19-b08c-7ab270205b14",
   "metadata": {},
   "outputs": [],
   "source": [
    "emissions_by_T_set = []\n",
    "for value in T_sets:\n",
    "    ng_model = ((1 / mean(standby)) * (c_p * (value - mean(T_colds)) \n",
    "                              * (flow_cms.replace(0., np.nan) * s_per_interval) \n",
    "                              * rho * therm_per_j)\n",
    "                * emission_per_therm / mean(Units)).resample('1d').sum().replace(0., np.nan)\n",
    "    emissions_by_T_set.append(ng_model.mean())"
   ]
  },
  {
   "cell_type": "code",
   "execution_count": 12,
   "id": "1ae38fdd-420d-4af6-814e-01e519c4ed57",
   "metadata": {},
   "outputs": [],
   "source": [
    "emissions_by_T_cold = []\n",
    "for value in T_colds:\n",
    "    ng_model = ((1 / mean(standby)) * (c_p * (mean(T_sets) - value) \n",
    "                              * (flow_cms.replace(0., np.nan) * s_per_interval) \n",
    "                              * rho * therm_per_j)\n",
    "                * emission_per_therm / mean(Units)).resample('1d').sum().replace(0., np.nan)\n",
    "    emissions_by_T_cold.append(ng_model.mean())"
   ]
  },
  {
   "cell_type": "code",
   "execution_count": 13,
   "id": "ae5a3603-a167-4542-a1d1-f84bded1ef1c",
   "metadata": {},
   "outputs": [],
   "source": [
    "emissions_by_Units = []\n",
    "for value in Units:\n",
    "    ng_model = ((1 / mean(standby)) * (c_p * (mean(T_sets) - mean(T_colds)) \n",
    "                              * (flow_cms.replace(0., np.nan) * s_per_interval) \n",
    "                              * rho * therm_per_j)\n",
    "                * emission_per_therm / value).resample('1d').sum().replace(0., np.nan)\n",
    "    emissions_by_Units.append(ng_model.mean())"
   ]
  },
  {
   "cell_type": "code",
   "execution_count": 14,
   "id": "29cc14d1-fe46-4f2a-b189-11e353ca3829",
   "metadata": {},
   "outputs": [],
   "source": [
    "import seaborn as sns\n",
    "pal = sns.color_palette('husl', n_colors=5)"
   ]
  },
  {
   "cell_type": "code",
   "execution_count": 15,
   "id": "5c0a11cc",
   "metadata": {},
   "outputs": [
    {
     "data": {
      "image/png": "[encoded data removed]",
      "text/plain": [
       "<Figure size 576x360 with 1 Axes>"
      ]
     },
     "metadata": {
      "needs_background": "light"
     },
     "output_type": "display_data"
    }
   ],
   "source": [
    "# Box plot:\n",
    "data = [emissions_by_standby, emissions_by_T_cold, emissions_by_T_set, emissions_by_Units]\n",
    "fig, ax = plt.subplots(figsize=(8, 5))\n",
    "labels = ['$\\eta_N$', '$T_{inlet}$', '$T_{set}$', 'Units']\n",
    "bplot = ax.boxplot(data, vert=True,  # vertical box alignment\n",
    "                     patch_artist=True,  # fill with color\n",
    "                     labels=labels)  # will be used to label x-ticks\n",
    "ax.set_title('Sensitivity Analysis: Natural Gas')\n",
    "# fill with colors\n",
    "colors = [pal.as_hex()[i] for i in range(1,5)]\n",
    "for patch, color in zip(bplot['boxes'], colors):\n",
    "        patch.set_facecolor(color)\n",
    "\n",
    "ax.yaxis.grid(True)\n",
    "ax.set_ylabel('kg $CO_2$ emissions per day')\n",
    "plt.savefig('../img/Sensitivity_analysisNG.png',dpi = 200)"
   ]
  },
  {
   "cell_type": "code",
   "execution_count": 16,
   "id": "f8bc96b2-7bf3-4514-bed0-b7580cc4ed97",
   "metadata": {},
   "outputs": [],
   "source": [
    "standby_uncertainty = statistics.stdev(emissions_by_standby)\n",
    "tset_uncertainty = statistics.stdev(emissions_by_T_set)\n",
    "tcold_uncertainty = statistics.stdev(emissions_by_T_cold)\n",
    "unit_uncertainty =  statistics.stdev(emissions_by_Units)\n",
    "uncertainties = [standby_uncertainty, tset_uncertainty, tcold_uncertainty, unit_uncertainty]"
   ]
  },
  {
   "cell_type": "code",
   "execution_count": 17,
   "id": "59f5759d-b0ad-4025-8952-6fd3d550a8f8",
   "metadata": {},
   "outputs": [
    {
     "name": "stdout",
     "output_type": "stream",
     "text": [
      "0.2192584422788616\n",
      "0.4634579402860985\n",
      "0.23172897014304925\n",
      "0.08555464729199067\n"
     ]
    }
   ],
   "source": [
    "print(standby_uncertainty / sum(uncertainties))\n",
    "print(tcold_uncertainty / sum(uncertainties))\n",
    "print(tset_uncertainty / sum(uncertainties))\n",
    "print(unit_uncertainty / sum(uncertainties))"
   ]
  },
  {
   "cell_type": "code",
   "execution_count": null,
   "id": "c70276be-4e4b-4d01-8309-acb27dc830aa",
   "metadata": {},
   "outputs": [],
   "source": []
  }
 ],
 "metadata": {
  "kernelspec": {
   "display_name": "Python 3 (ipykernel)",
   "language": "python",
   "name": "python3"
  },
  "language_info": {
   "codemirror_mode": {
    "name": "ipython",
    "version": 3
   },
   "file_extension": ".py",
   "mimetype": "text/x-python",
   "name": "python",
   "nbconvert_exporter": "python",
   "pygments_lexer": "ipython3",
   "version": "3.9.11"
  }
 },
 "nbformat": 4,
 "nbformat_minor": 5
}
